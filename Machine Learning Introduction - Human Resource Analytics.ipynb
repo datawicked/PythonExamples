{
 "cells": [
  {
   "cell_type": "markdown",
   "metadata": {},
   "source": [
    "# Data Mining Workflow"
   ]
  },
  {
   "cell_type": "markdown",
   "metadata": {},
   "source": [
    "## Dataset"
   ]
  },
  {
   "cell_type": "markdown",
   "metadata": {},
   "source": [
    "(This is a Kaggle dataset)\n",
    "\n",
    "The probelem concerns a company that wants to learn and why are their best and most experienced employees are leaving early. They want to predict which employees will leave next.\n",
    "\n",
    "Fields in the dataset include:\n",
    "\n",
    "Last evaluation <br>\n",
    "Number of projects <br>\n",
    "Average monthly hours <br>\n",
    "Time spent at the company <br>\n",
    "Whether they have had a work accident <br>\n",
    "Whether they have had a promotion in the last 5 years <br>\n",
    "Department <br>\n",
    "Salary <br>\n",
    "Whether the employee has left <br>\n"
   ]
  },
  {
   "cell_type": "markdown",
   "metadata": {},
   "source": [
    "## Using the SAS Python  API\n",
    "\n",
    "Note: This API converts python syntax language into CAS Language, which is sent to the SAS server for execution (the execution is not done locally). The results are then brought back into Python"
   ]
  },
  {
   "cell_type": "markdown",
   "metadata": {},
   "source": [
    "This example illustrates fitting and comparing several Machine Learning algorithms for classifying the binary label 'left' in the Human Resource data set.\n",
    "\n",
    "The steps include:                              \n",
    "                                                                      \n",
    "1. PREPARE AND EXPLORE  \n",
    "  a) Data is loaded into CAS <br>\n",
    "  b) Explore data, distributions, correlations, and visualizations \n",
    "<br>                                                                      \n",
    "2. PERFORM SUPERVISED LEARNING  \n",
    "  a) Fit a model using Logistic Regression <br>\n",
    "  b) Fit a model using Gradient Boosting  <br>\n",
    "  c) Hands-on Problem - Fit a model using Random Forest\n",
    "  <br>                                                                      \n",
    "3. EVALUATE AND IMPLEMENT  \n",
    "  a) Score the data  \n",
    "  b) Assess model performance  \n",
    "  c) Generate ROC and Lift charts <br>\n",
    "  d) Hands-on Problem - Score, Assess, ROC charts for Random Forest model and Compare with Logistic and Gradient Boosting "
   ]
  },
  {
   "cell_type": "markdown",
   "metadata": {},
   "source": [
    "## Import packages and modules, Start CAS Session & Load HR dataset"
   ]
  },
  {
   "cell_type": "code",
   "execution_count": 16,
   "metadata": {
    "collapsed": false
   },
   "outputs": [
    {
     "name": "stdout",
     "output_type": "stream",
     "text": [
      "NOTE: Added action set 'simple'.\n",
      "NOTE: Added action set 'cardinality'.\n",
      "NOTE: Added action set 'sampling'.\n",
      "NOTE: Added action set 'fedSQL'.\n",
      "NOTE: Added action set 'regression'.\n",
      "NOTE: Added action set 'decisionTree'.\n",
      "NOTE: Added action set 'neuralNet'.\n",
      "NOTE: Added action set 'astore'.\n",
      "NOTE: Added action set 'autotune'.\n",
      "NOTE: 'datalib' is now the active caslib.\n",
      "NOTE: Cloud Analytic Services added the caslib 'datalib'.\n",
      "NOTE: Cloud Analytic Services made the file HR_comma_sep.csv available as table HR_DATA in caslib datalib.\n"
     ]
    }
   ],
   "source": [
    "import swat\n",
    "import numpy as np\n",
    "import pandas as pd\n",
    "from swat.render import render_html\n",
    "from matplotlib import pyplot as plt\n",
    "%matplotlib inline\n",
    "import warnings\n",
    "warnings.filterwarnings('ignore')\n",
    "import seaborn as sea\n",
    "sea.set(style=\"whitegrid\", color_codes=True)\n",
    "from pprint import pprint\n",
    "from IPython.core.display import display, HTML\n",
    "\n",
    "\n",
    "# Define directory and data file name\n",
    "hrdata_dir = '<Path_to_data>'\n",
    "indataset     = 'hr_data'\n",
    "\n",
    "## Server, port, username, password\n",
    "cashost='localhost'\n",
    "casport=5570\n",
    "\n",
    "# Start a CAS session\n",
    "sess = swat.CAS(cashost, casport, 'userid', 'password')\n",
    "\n",
    "# Load actionsets for analysis (for data prep, modeling, assessing)\n",
    "actionsets = ['simple','cardinality', 'sampling', 'fedSQL','regression', 'decisionTree', 'neuralNet', 'astore','autotune']\n",
    "[sess.builtins.loadactionset(i) for i in actionsets]\n",
    "\n",
    "# Create a CAS library called datalib pointing to the defined directory\n",
    "datalib = sess.addCaslib('datalib', datasource = 'path', path = hrdata_dir)\n",
    "\n",
    "# Push the relevant table In-Memory\n",
    "## Note, this is a server side data load, not being loaded from the client\n",
    "inMem = sess.loadTable('HR_comma_sep.csv',caslib='datalib', casOut = dict(name='hr_data', caslib='datalib'))"
   ]
  },
  {
   "cell_type": "markdown",
   "metadata": {},
   "source": [
    "## Data Exploration and Preparation"
   ]
  },
  {
   "cell_type": "markdown",
   "metadata": {},
   "source": [
    "## Investigate the data"
   ]
  },
  {
   "cell_type": "code",
   "execution_count": 17,
   "metadata": {
    "collapsed": false
   },
   "outputs": [
    {
     "data": {
      "text/html": [
       "<div>\n",
       "<table border=\"1\" class=\"dataframe\"><caption>Selected Rows from Table HR_DATA</caption>\n",
       "  <thead>\n",
       "    <tr style=\"text-align: right;\">\n",
       "      <th title=\"\"></th>\n",
       "      <th title=\"satisfaction_level\">satisfaction_level</th>\n",
       "      <th title=\"last_evaluation\">last_evaluation</th>\n",
       "      <th title=\"number_project\">number_project</th>\n",
       "      <th title=\"average_montly_hours\">average_montly_hours</th>\n",
       "      <th title=\"time_spend_company\">time_spend_company</th>\n",
       "      <th title=\"Work_accident\">Work_accident</th>\n",
       "      <th title=\"left\">left</th>\n",
       "      <th title=\"promotion_last_5years\">promotion_last_5years</th>\n",
       "      <th title=\"sales\">sales</th>\n",
       "      <th title=\"salary\">salary</th>\n",
       "    </tr>\n",
       "  </thead>\n",
       "  <tbody>\n",
       "    <tr>\n",
       "      <th>0</th>\n",
       "      <td>0.38</td>\n",
       "      <td>0.53</td>\n",
       "      <td>2.0</td>\n",
       "      <td>157.0</td>\n",
       "      <td>3.0</td>\n",
       "      <td>0.0</td>\n",
       "      <td>1.0</td>\n",
       "      <td>0.0</td>\n",
       "      <td>sales</td>\n",
       "      <td>low</td>\n",
       "    </tr>\n",
       "    <tr>\n",
       "      <th>1</th>\n",
       "      <td>0.80</td>\n",
       "      <td>0.86</td>\n",
       "      <td>5.0</td>\n",
       "      <td>262.0</td>\n",
       "      <td>6.0</td>\n",
       "      <td>0.0</td>\n",
       "      <td>1.0</td>\n",
       "      <td>0.0</td>\n",
       "      <td>sales</td>\n",
       "      <td>medium</td>\n",
       "    </tr>\n",
       "    <tr>\n",
       "      <th>2</th>\n",
       "      <td>0.11</td>\n",
       "      <td>0.88</td>\n",
       "      <td>7.0</td>\n",
       "      <td>272.0</td>\n",
       "      <td>4.0</td>\n",
       "      <td>0.0</td>\n",
       "      <td>1.0</td>\n",
       "      <td>0.0</td>\n",
       "      <td>sales</td>\n",
       "      <td>medium</td>\n",
       "    </tr>\n",
       "    <tr>\n",
       "      <th>3</th>\n",
       "      <td>0.72</td>\n",
       "      <td>0.87</td>\n",
       "      <td>5.0</td>\n",
       "      <td>223.0</td>\n",
       "      <td>5.0</td>\n",
       "      <td>0.0</td>\n",
       "      <td>1.0</td>\n",
       "      <td>0.0</td>\n",
       "      <td>sales</td>\n",
       "      <td>low</td>\n",
       "    </tr>\n",
       "    <tr>\n",
       "      <th>4</th>\n",
       "      <td>0.37</td>\n",
       "      <td>0.52</td>\n",
       "      <td>2.0</td>\n",
       "      <td>159.0</td>\n",
       "      <td>3.0</td>\n",
       "      <td>0.0</td>\n",
       "      <td>1.0</td>\n",
       "      <td>0.0</td>\n",
       "      <td>sales</td>\n",
       "      <td>low</td>\n",
       "    </tr>\n",
       "    <tr>\n",
       "      <th>5</th>\n",
       "      <td>0.41</td>\n",
       "      <td>0.50</td>\n",
       "      <td>2.0</td>\n",
       "      <td>153.0</td>\n",
       "      <td>3.0</td>\n",
       "      <td>0.0</td>\n",
       "      <td>1.0</td>\n",
       "      <td>0.0</td>\n",
       "      <td>sales</td>\n",
       "      <td>low</td>\n",
       "    </tr>\n",
       "    <tr>\n",
       "      <th>6</th>\n",
       "      <td>0.10</td>\n",
       "      <td>0.77</td>\n",
       "      <td>6.0</td>\n",
       "      <td>247.0</td>\n",
       "      <td>4.0</td>\n",
       "      <td>0.0</td>\n",
       "      <td>1.0</td>\n",
       "      <td>0.0</td>\n",
       "      <td>sales</td>\n",
       "      <td>low</td>\n",
       "    </tr>\n",
       "    <tr>\n",
       "      <th>7</th>\n",
       "      <td>0.92</td>\n",
       "      <td>0.85</td>\n",
       "      <td>5.0</td>\n",
       "      <td>259.0</td>\n",
       "      <td>5.0</td>\n",
       "      <td>0.0</td>\n",
       "      <td>1.0</td>\n",
       "      <td>0.0</td>\n",
       "      <td>sales</td>\n",
       "      <td>low</td>\n",
       "    </tr>\n",
       "    <tr>\n",
       "      <th>8</th>\n",
       "      <td>0.89</td>\n",
       "      <td>1.00</td>\n",
       "      <td>5.0</td>\n",
       "      <td>224.0</td>\n",
       "      <td>5.0</td>\n",
       "      <td>0.0</td>\n",
       "      <td>1.0</td>\n",
       "      <td>0.0</td>\n",
       "      <td>sales</td>\n",
       "      <td>low</td>\n",
       "    </tr>\n",
       "    <tr>\n",
       "      <th>9</th>\n",
       "      <td>0.42</td>\n",
       "      <td>0.53</td>\n",
       "      <td>2.0</td>\n",
       "      <td>142.0</td>\n",
       "      <td>3.0</td>\n",
       "      <td>0.0</td>\n",
       "      <td>1.0</td>\n",
       "      <td>0.0</td>\n",
       "      <td>sales</td>\n",
       "      <td>low</td>\n",
       "    </tr>\n",
       "  </tbody>\n",
       "</table>\n",
       "</div>"
      ],
      "text/plain": [
       "Selected Rows from Table HR_DATA\n",
       "\n",
       "   satisfaction_level  last_evaluation  number_project  average_montly_hours  \\\n",
       "0                0.38             0.53             2.0                 157.0   \n",
       "1                0.80             0.86             5.0                 262.0   \n",
       "2                0.11             0.88             7.0                 272.0   \n",
       "3                0.72             0.87             5.0                 223.0   \n",
       "4                0.37             0.52             2.0                 159.0   \n",
       "5                0.41             0.50             2.0                 153.0   \n",
       "6                0.10             0.77             6.0                 247.0   \n",
       "7                0.92             0.85             5.0                 259.0   \n",
       "8                0.89             1.00             5.0                 224.0   \n",
       "9                0.42             0.53             2.0                 142.0   \n",
       "\n",
       "   time_spend_company  Work_accident  left  promotion_last_5years  sales  \\\n",
       "0                 3.0            0.0   1.0                    0.0  sales   \n",
       "1                 6.0            0.0   1.0                    0.0  sales   \n",
       "2                 4.0            0.0   1.0                    0.0  sales   \n",
       "3                 5.0            0.0   1.0                    0.0  sales   \n",
       "4                 3.0            0.0   1.0                    0.0  sales   \n",
       "5                 3.0            0.0   1.0                    0.0  sales   \n",
       "6                 4.0            0.0   1.0                    0.0  sales   \n",
       "7                 5.0            0.0   1.0                    0.0  sales   \n",
       "8                 5.0            0.0   1.0                    0.0  sales   \n",
       "9                 3.0            0.0   1.0                    0.0  sales   \n",
       "\n",
       "   salary  \n",
       "0     low  \n",
       "1  medium  \n",
       "2  medium  \n",
       "3     low  \n",
       "4     low  \n",
       "5     low  \n",
       "6     low  \n",
       "7     low  \n",
       "8     low  \n",
       "9     low  "
      ]
     },
     "execution_count": 17,
     "metadata": {},
     "output_type": "execute_result"
    }
   ],
   "source": [
    "# Store the inMem data object as hr\n",
    "hr=inMem.casTable\n",
    "\n",
    "# Print out the first 10 rows of the dataset\n",
    "hr.head(10)"
   ]
  },
  {
   "cell_type": "code",
   "execution_count": 18,
   "metadata": {
    "collapsed": true
   },
   "outputs": [],
   "source": [
    "varlist = ['satisfaction_level',\n",
    " 'last_evaluation',\n",
    " 'number_project',\n",
    " 'average_montly_hours',\n",
    " 'time_spend_company',\n",
    " 'Work_accident',\n",
    " 'promotion_last_5years','left']\n",
    "categoricals=['sales', 'salary']"
   ]
  },
  {
   "cell_type": "code",
   "execution_count": 19,
   "metadata": {
    "collapsed": false
   },
   "outputs": [
    {
     "data": {
      "text/html": [
       "<div class=\"cas-results-key\"><b>&#167; Summary</b></div>\n",
       "<div class=\"cas-results-body\">\n",
       "<div>\n",
       "<table border=\"1\" class=\"dataframe\"><caption>Descriptive Statistics for HR_DATA</caption>\n",
       "  <thead>\n",
       "    <tr style=\"text-align: right;\">\n",
       "      <th title=\"\"></th>\n",
       "      <th title=\"Analysis Variable\">Column</th>\n",
       "      <th title=\"Minimum\">Min</th>\n",
       "      <th title=\"Maximum\">Max</th>\n",
       "      <th title=\"N\">N</th>\n",
       "      <th title=\"N Miss\">NMiss</th>\n",
       "      <th title=\"Mean\">Mean</th>\n",
       "      <th title=\"Sum\">Sum</th>\n",
       "      <th title=\"Std Dev\">Std</th>\n",
       "      <th title=\"Std Error\">StdErr</th>\n",
       "      <th title=\"Variance\">Var</th>\n",
       "      <th title=\"USS\">USS</th>\n",
       "      <th title=\"Corrected SS\">CSS</th>\n",
       "      <th title=\"Coeff of Variation\">CV</th>\n",
       "      <th title=\"t Value\">TValue</th>\n",
       "      <th title=\"Pr &gt; |t|\">ProbT</th>\n",
       "    </tr>\n",
       "  </thead>\n",
       "  <tbody>\n",
       "    <tr>\n",
       "      <th>0</th>\n",
       "      <td>satisfaction_level</td>\n",
       "      <td>0.09</td>\n",
       "      <td>1.0</td>\n",
       "      <td>14999.0</td>\n",
       "      <td>0.0</td>\n",
       "      <td>0.612834</td>\n",
       "      <td>9191.89</td>\n",
       "      <td>0.248631</td>\n",
       "      <td>0.002030</td>\n",
       "      <td>0.061817</td>\n",
       "      <td>6.560233e+03</td>\n",
       "      <td>9.271344e+02</td>\n",
       "      <td>40.570668</td>\n",
       "      <td>301.869335</td>\n",
       "      <td>0.000000e+00</td>\n",
       "    </tr>\n",
       "    <tr>\n",
       "      <th>1</th>\n",
       "      <td>last_evaluation</td>\n",
       "      <td>0.36</td>\n",
       "      <td>1.0</td>\n",
       "      <td>14999.0</td>\n",
       "      <td>0.0</td>\n",
       "      <td>0.716102</td>\n",
       "      <td>10740.81</td>\n",
       "      <td>0.171169</td>\n",
       "      <td>0.001398</td>\n",
       "      <td>0.029299</td>\n",
       "      <td>8.130937e+03</td>\n",
       "      <td>4.394244e+02</td>\n",
       "      <td>23.902904</td>\n",
       "      <td>512.366218</td>\n",
       "      <td>0.000000e+00</td>\n",
       "    </tr>\n",
       "    <tr>\n",
       "      <th>2</th>\n",
       "      <td>number_project</td>\n",
       "      <td>2.00</td>\n",
       "      <td>7.0</td>\n",
       "      <td>14999.0</td>\n",
       "      <td>0.0</td>\n",
       "      <td>3.803054</td>\n",
       "      <td>57042.00</td>\n",
       "      <td>1.232592</td>\n",
       "      <td>0.010064</td>\n",
       "      <td>1.519284</td>\n",
       "      <td>2.397200e+05</td>\n",
       "      <td>2.278622e+04</td>\n",
       "      <td>32.410597</td>\n",
       "      <td>377.871486</td>\n",
       "      <td>0.000000e+00</td>\n",
       "    </tr>\n",
       "    <tr>\n",
       "      <th>3</th>\n",
       "      <td>average_montly_hours</td>\n",
       "      <td>96.00</td>\n",
       "      <td>310.0</td>\n",
       "      <td>14999.0</td>\n",
       "      <td>0.0</td>\n",
       "      <td>201.050337</td>\n",
       "      <td>3015554.00</td>\n",
       "      <td>49.943099</td>\n",
       "      <td>0.407797</td>\n",
       "      <td>2494.313175</td>\n",
       "      <td>6.436879e+08</td>\n",
       "      <td>3.740971e+07</td>\n",
       "      <td>24.841092</td>\n",
       "      <td>493.015379</td>\n",
       "      <td>0.000000e+00</td>\n",
       "    </tr>\n",
       "    <tr>\n",
       "      <th>4</th>\n",
       "      <td>time_spend_company</td>\n",
       "      <td>2.00</td>\n",
       "      <td>10.0</td>\n",
       "      <td>14999.0</td>\n",
       "      <td>0.0</td>\n",
       "      <td>3.498233</td>\n",
       "      <td>52470.00</td>\n",
       "      <td>1.460136</td>\n",
       "      <td>0.011922</td>\n",
       "      <td>2.131998</td>\n",
       "      <td>2.155280e+05</td>\n",
       "      <td>3.197570e+04</td>\n",
       "      <td>41.739248</td>\n",
       "      <td>293.417853</td>\n",
       "      <td>0.000000e+00</td>\n",
       "    </tr>\n",
       "    <tr>\n",
       "      <th>5</th>\n",
       "      <td>Work_accident</td>\n",
       "      <td>0.00</td>\n",
       "      <td>1.0</td>\n",
       "      <td>14999.0</td>\n",
       "      <td>0.0</td>\n",
       "      <td>0.144610</td>\n",
       "      <td>2169.00</td>\n",
       "      <td>0.351719</td>\n",
       "      <td>0.002872</td>\n",
       "      <td>0.123706</td>\n",
       "      <td>2.169000e+03</td>\n",
       "      <td>1.855342e+03</td>\n",
       "      <td>243.219298</td>\n",
       "      <td>50.353901</td>\n",
       "      <td>0.000000e+00</td>\n",
       "    </tr>\n",
       "    <tr>\n",
       "      <th>6</th>\n",
       "      <td>left</td>\n",
       "      <td>0.00</td>\n",
       "      <td>1.0</td>\n",
       "      <td>14999.0</td>\n",
       "      <td>0.0</td>\n",
       "      <td>0.238083</td>\n",
       "      <td>3571.00</td>\n",
       "      <td>0.425924</td>\n",
       "      <td>0.003478</td>\n",
       "      <td>0.181411</td>\n",
       "      <td>3.571000e+03</td>\n",
       "      <td>2.720807e+03</td>\n",
       "      <td>178.897664</td>\n",
       "      <td>68.458359</td>\n",
       "      <td>0.000000e+00</td>\n",
       "    </tr>\n",
       "    <tr>\n",
       "      <th>7</th>\n",
       "      <td>promotion_last_5years</td>\n",
       "      <td>0.00</td>\n",
       "      <td>1.0</td>\n",
       "      <td>14999.0</td>\n",
       "      <td>0.0</td>\n",
       "      <td>0.021268</td>\n",
       "      <td>319.00</td>\n",
       "      <td>0.144281</td>\n",
       "      <td>0.001178</td>\n",
       "      <td>0.020817</td>\n",
       "      <td>3.190000e+02</td>\n",
       "      <td>3.122155e+02</td>\n",
       "      <td>678.394259</td>\n",
       "      <td>18.052984</td>\n",
       "      <td>4.327074e-72</td>\n",
       "    </tr>\n",
       "  </tbody>\n",
       "</table>\n",
       "</div>\n",
       "</div>\n",
       "<div class=\"cas-output-area\"></div>\n",
       "<p class=\"cas-results-performance\"><small><span class=\"cas-elapsed\">elapsed 0.00469s</span> &#183; <span class=\"cas-user\">user 0.008s</span> &#183; <span class=\"cas-sys\">sys 0.001s</span> &#183; <span class=\"cas-memory\">mem 0.653MB</span></small></p>"
      ],
      "text/plain": [
       "[Summary]\n",
       "\n",
       " Descriptive Statistics for HR_DATA\n",
       " \n",
       "                   Column    Min    Max        N  NMiss        Mean  \\\n",
       " 0     satisfaction_level   0.09    1.0  14999.0    0.0    0.612834   \n",
       " 1        last_evaluation   0.36    1.0  14999.0    0.0    0.716102   \n",
       " 2         number_project   2.00    7.0  14999.0    0.0    3.803054   \n",
       " 3   average_montly_hours  96.00  310.0  14999.0    0.0  201.050337   \n",
       " 4     time_spend_company   2.00   10.0  14999.0    0.0    3.498233   \n",
       " 5          Work_accident   0.00    1.0  14999.0    0.0    0.144610   \n",
       " 6                   left   0.00    1.0  14999.0    0.0    0.238083   \n",
       " 7  promotion_last_5years   0.00    1.0  14999.0    0.0    0.021268   \n",
       " \n",
       "           Sum        Std    StdErr          Var           USS           CSS  \\\n",
       " 0     9191.89   0.248631  0.002030     0.061817  6.560233e+03  9.271344e+02   \n",
       " 1    10740.81   0.171169  0.001398     0.029299  8.130937e+03  4.394244e+02   \n",
       " 2    57042.00   1.232592  0.010064     1.519284  2.397200e+05  2.278622e+04   \n",
       " 3  3015554.00  49.943099  0.407797  2494.313175  6.436879e+08  3.740971e+07   \n",
       " 4    52470.00   1.460136  0.011922     2.131998  2.155280e+05  3.197570e+04   \n",
       " 5     2169.00   0.351719  0.002872     0.123706  2.169000e+03  1.855342e+03   \n",
       " 6     3571.00   0.425924  0.003478     0.181411  3.571000e+03  2.720807e+03   \n",
       " 7      319.00   0.144281  0.001178     0.020817  3.190000e+02  3.122155e+02   \n",
       " \n",
       "            CV      TValue         ProbT  \n",
       " 0   40.570668  301.869335  0.000000e+00  \n",
       " 1   23.902904  512.366218  0.000000e+00  \n",
       " 2   32.410597  377.871486  0.000000e+00  \n",
       " 3   24.841092  493.015379  0.000000e+00  \n",
       " 4   41.739248  293.417853  0.000000e+00  \n",
       " 5  243.219298   50.353901  0.000000e+00  \n",
       " 6  178.897664   68.458359  0.000000e+00  \n",
       " 7  678.394259   18.052984  4.327074e-72  \n",
       "\n",
       "+ Elapsed: 0.00469s, user: 0.008s, sys: 0.001s, mem: 0.653mb"
      ]
     },
     "execution_count": 19,
     "metadata": {},
     "output_type": "execute_result"
    }
   ],
   "source": [
    "hr.summary()"
   ]
  },
  {
   "cell_type": "markdown",
   "metadata": {},
   "source": [
    "## Plot Numeric Variable Distribution - CAS/Python"
   ]
  },
  {
   "cell_type": "code",
   "execution_count": 20,
   "metadata": {
    "collapsed": false
   },
   "outputs": [
    {
     "data": {
      "image/png": "[encoded data removed]",
      "text/plain": [
       "<matplotlib.figure.Figure at 0x7fce8246c550>"
      ]
     },
     "metadata": {},
     "output_type": "display_data"
    }
   ],
   "source": [
    "#Which department has most individuals leaving?\n",
    "\n",
    "hr_left=hr[(hr.left == 1)] # data selection with a CAS object\n",
    "df_department=hr_left[['sales']].freq()\n",
    "sea.barplot(x='Frequency', y= 'FmtVar',data=df_department['Frequency'], palette=\"Blues_d\");"
   ]
  },
  {
   "cell_type": "code",
   "execution_count": 21,
   "metadata": {
    "collapsed": false
   },
   "outputs": [
    {
     "data": {
      "image/png": "[encoded data removed]",
      "text/plain": [
       "<matplotlib.figure.Figure at 0x7fce81ab0d30>"
      ]
     },
     "metadata": {},
     "output_type": "display_data"
    }
   ],
   "source": [
    "df_salary=hr_left[['salary']].freq()\n",
    "sea.barplot(x= 'FmtVar', y= 'Frequency', data=df_salary['Frequency'], palette=\"Greens_d\");"
   ]
  },
  {
   "cell_type": "code",
   "execution_count": 22,
   "metadata": {
    "collapsed": false
   },
   "outputs": [
    {
     "data": {
      "text/plain": [
       "<matplotlib.axes._subplots.AxesSubplot at 0x7fce81bf1ac8>"
      ]
     },
     "execution_count": 22,
     "metadata": {},
     "output_type": "execute_result"
    },
    {
     "data": {
      "image/png": "[encoded data removed]",
      "text/plain": [
       "<matplotlib.figure.Figure at 0x7fce822007f0>"
      ]
     },
     "metadata": {},
     "output_type": "display_data"
    }
   ],
   "source": [
    "#Distribution of Salary level for satisfaction level\n",
    "\n",
    "df_all=hr.to_frame()\n",
    "sea.boxplot(x=df_all['salary'], y=df_all['satisfaction_level'], hue=df_all['left'])"
   ]
  },
  {
   "cell_type": "code",
   "execution_count": 23,
   "metadata": {
    "collapsed": false
   },
   "outputs": [
    {
     "data": {
      "image/png": "[encoded data removed]",
      "text/plain": [
       "<matplotlib.figure.Figure at 0x7fce81fbf9b0>"
      ]
     },
     "metadata": {},
     "output_type": "display_data"
    }
   ],
   "source": [
    "# Use the built in hist() method to plot the distribution of every variable\n",
    "hr_left.hist(figsize = (15, 10));"
   ]
  },
  {
   "cell_type": "code",
   "execution_count": 28,
   "metadata": {
    "collapsed": false
   },
   "outputs": [
    {
     "data": {
      "text/plain": [
       "4"
      ]
     },
     "execution_count": 28,
     "metadata": {},
     "output_type": "execute_result"
    }
   ],
   "source": [
    "#Get index number for the casTable using the get_loc extension\n",
    "hr.columns.get_loc('time_spend_company')"
   ]
  },
  {
   "cell_type": "code",
   "execution_count": 29,
   "metadata": {
    "collapsed": false
   },
   "outputs": [
    {
     "data": {
      "text/plain": [
       "0"
      ]
     },
     "execution_count": 29,
     "metadata": {},
     "output_type": "execute_result"
    }
   ],
   "source": [
    "hr.columns.get_loc('satisfaction_level')"
   ]
  },
  {
   "cell_type": "code",
   "execution_count": 24,
   "metadata": {
    "collapsed": false
   },
   "outputs": [
    {
     "data": {
      "image/png": "[encoded data removed]",
      "text/plain": [
       "<matplotlib.figure.Figure at 0x7fce821dc6a0>"
      ]
     },
     "metadata": {},
     "output_type": "display_data"
    }
   ],
   "source": [
    "#Experienced employees - whether they decided to leave or stayed with the company\n",
    "x=hr[(hr.left == 0)].ix[:,4].values\n",
    "y=hr[(hr.left == 1)].ix[:,4].values\n",
    "\n",
    "plt.figure()\n",
    "plt.hist(x, bins=10, alpha=0.6, color='lightblue', label='With Company')\n",
    "plt.hist(y, bins=10, alpha=0.6, color ='red', label='Left Company')\n",
    "plt.legend()\n",
    "plt.show()"
   ]
  },
  {
   "cell_type": "code",
   "execution_count": 25,
   "metadata": {
    "collapsed": false
   },
   "outputs": [
    {
     "data": {
      "image/png": "[encoded data removed]",
      "text/plain": [
       "<matplotlib.figure.Figure at 0x7fce81500dd8>"
      ]
     },
     "metadata": {},
     "output_type": "display_data"
    }
   ],
   "source": [
    "#Satisfaction level of employees whether they decided to leave or stayed with the company\n",
    "x=hr[(hr.left == 0)].ix[:,0].values\n",
    "y=hr[(hr.left == 1)].ix[:,0].values\n",
    "\n",
    "plt.figure()\n",
    "plt.hist(x, bins=10, alpha=0.6, color='green', label='With Company')\n",
    "plt.hist(y, bins=10, alpha=0.6, color ='red', label='Left Company')\n",
    "plt.legend()\n",
    "plt.show()"
   ]
  },
  {
   "cell_type": "code",
   "execution_count": 38,
   "metadata": {
    "collapsed": false
   },
   "outputs": [
    {
     "data": {
      "image/png": "[encoded data removed]",
      "text/plain": [
       "<matplotlib.figure.Figure at 0x7fce8244a9b0>"
      ]
     },
     "metadata": {},
     "output_type": "display_data"
    }
   ],
   "source": [
    "#Are there employees with more years of experience with higher performance evaluation and satisfied that are leaving? \n",
    "#Hint: Change the code below to incorporate time_spend_company and last_evaluation...\n",
    "\n",
    "x=hr[((hr.time_spend_company > 3) & (hr.time_spend_company < 8)) & (hr.last_evaluation >= 0.8) & (hr.left == 0)].ix[:,0].values\n",
    "y=hr[((hr.time_spend_company > 3) & (hr.time_spend_company < 8)) & (hr.last_evaluation >= 0.8) & (hr.left == 1)].ix[:,0].values\n",
    "\n",
    "plt.figure()\n",
    "plt.hist(x, bins=10, alpha=0.6, color='green', label='With Company')\n",
    "plt.hist(y, bins=10, alpha=0.6, color ='red', label='Left Company')\n",
    "plt.legend()\n",
    "plt.show()\n",
    "\n",
    "#Employees with time spend with company between 4 & 7 that left the company had a high satisfaction score 0.7 to 0.9\n",
    "#...what other insights can we get?"
   ]
  },
  {
   "cell_type": "markdown",
   "metadata": {},
   "source": [
    "### Correlation Analysis"
   ]
  },
  {
   "cell_type": "markdown",
   "metadata": {},
   "source": [
    "Are there any relationships between these variables? "
   ]
  },
  {
   "cell_type": "code",
   "execution_count": 35,
   "metadata": {
    "collapsed": false
   },
   "outputs": [
    {
     "data": {
      "text/plain": [
       "<matplotlib.axes._subplots.AxesSubplot at 0x7fce7ebbaa20>"
      ]
     },
     "execution_count": 35,
     "metadata": {},
     "output_type": "execute_result"
    },
    {
     "data": {
      "image/png": "[encoded data removed]",
      "text/plain": [
       "<matplotlib.figure.Figure at 0x7fce7eb2a240>"
      ]
     },
     "metadata": {},
     "output_type": "display_data"
    }
   ],
   "source": [
    "corr=hr.correlation(inputs=varlist)\n",
    "corr_tbl=corr['Correlation']\n",
    "indexed_df = corr_tbl.set_index(['Variable'])\n",
    "del indexed_df.index.name\n",
    "sea.heatmap(indexed_df, xticklabels=indexed_df.columns.values,yticklabels=indexed_df.columns.values)"
   ]
  },
  {
   "cell_type": "markdown",
   "metadata": {},
   "source": [
    "### Based on the histogram analysis - create a high risk employee profile and re-run correlations?"
   ]
  },
  {
   "cell_type": "code",
   "execution_count": 46,
   "metadata": {
    "collapsed": false
   },
   "outputs": [
    {
     "data": {
      "text/plain": [
       "<matplotlib.axes._subplots.AxesSubplot at 0x7fce814eb0f0>"
      ]
     },
     "execution_count": 46,
     "metadata": {},
     "output_type": "execute_result"
    },
    {
     "data": {
      "image/png": "[encoded data removed]",
      "text/plain": [
       "<matplotlib.figure.Figure at 0x7fce7eac5b70>"
      ]
     },
     "metadata": {},
     "output_type": "display_data"
    }
   ],
   "source": [
    "#We will use the insights from the histogram analysis to see if there are other variables that have stronger correlations\n",
    "#with the label \"left\" \n",
    "\n",
    "corr=hr[((hr.time_spend_company > 3) & (hr.time_spend_company < 8)) & (hr.last_evaluation >= 0.8)].correlation(inputs=varlist) # Change data selection for hr...\n",
    "corr_tbl=corr['Correlation']\n",
    "indexed_df = corr_tbl.set_index(['Variable'])\n",
    "del indexed_df.index.name\n",
    "sea.heatmap(indexed_df, xticklabels=indexed_df.columns.values,yticklabels=indexed_df.columns.values)"
   ]
  },
  {
   "cell_type": "markdown",
   "metadata": {},
   "source": [
    "## Partition Data into Training and Validation Sets "
   ]
  },
  {
   "cell_type": "code",
   "execution_count": 47,
   "metadata": {
    "collapsed": true
   },
   "outputs": [],
   "source": [
    "target=\"left\"\n",
    "interval_inputs = ['satisfaction_level',\n",
    " 'last_evaluation',\n",
    " 'number_project',\n",
    " 'average_montly_hours',\n",
    " 'time_spend_company',\n",
    " 'Work_accident',\n",
    " 'promotion_last_5years']\n",
    "class_inputs=['sales', 'salary']\n",
    "class_vars= [target] + class_inputs\n",
    "all_inputs=interval_inputs + class_inputs"
   ]
  },
  {
   "cell_type": "code",
   "execution_count": 48,
   "metadata": {
    "collapsed": false
   },
   "outputs": [
    {
     "name": "stdout",
     "output_type": "stream",
     "text": [
      "NOTE: Using SEED=395905395 for sampling.\n"
     ]
    },
    {
     "data": {
      "text/html": [
       "<div class=\"cas-results-key\"><b>&#167; outputSize</b></div>\n",
       "<div class=\"cas-results-body\">\n",
       "<div>{'outputNObs': 14999.0, 'outputNVars': 11}</div>\n",
       "</div>\n",
       "<div class=\"cas-results-key\"><hr/><b>&#167; STRAFreq</b></div>\n",
       "<div class=\"cas-results-body\">\n",
       "<div>\n",
       "<table border=\"1\" class=\"dataframe\"><caption>Frequencies</caption>\n",
       "  <thead>\n",
       "    <tr style=\"text-align: right;\">\n",
       "      <th title=\"\"></th>\n",
       "      <th title=\"Index\">ByGrpID</th>\n",
       "      <th title=\"left\">left</th>\n",
       "      <th title=\"Number of Obs\">NObs</th>\n",
       "      <th title=\"Number of Samples\">NSamp</th>\n",
       "    </tr>\n",
       "  </thead>\n",
       "  <tbody>\n",
       "    <tr>\n",
       "      <th>0</th>\n",
       "      <td>0</td>\n",
       "      <td>0</td>\n",
       "      <td>11428</td>\n",
       "      <td>8000</td>\n",
       "    </tr>\n",
       "    <tr>\n",
       "      <th>1</th>\n",
       "      <td>1</td>\n",
       "      <td>1</td>\n",
       "      <td>3571</td>\n",
       "      <td>2500</td>\n",
       "    </tr>\n",
       "  </tbody>\n",
       "</table>\n",
       "</div>\n",
       "</div>\n",
       "<div class=\"cas-results-key\"><hr/><b>&#167; OutputCasTables</b></div>\n",
       "<div class=\"cas-results-body\">\n",
       "<div>\n",
       "<table border=\"1\" class=\"dataframe\">\n",
       "  <thead>\n",
       "    <tr style=\"text-align: right;\">\n",
       "      <th title=\"\"></th>\n",
       "      <th title=\"CAS Library\">casLib</th>\n",
       "      <th title=\"Name\">Name</th>\n",
       "      <th title=\"Label\">Label</th>\n",
       "      <th title=\"Number of Rows\">Rows</th>\n",
       "      <th title=\"Number of Columns\">Columns</th>\n",
       "      <th title=\"Table\">casTable</th>\n",
       "    </tr>\n",
       "  </thead>\n",
       "  <tbody>\n",
       "    <tr>\n",
       "      <th>0</th>\n",
       "      <td>datalib</td>\n",
       "      <td>hr_part</td>\n",
       "      <td></td>\n",
       "      <td>14999</td>\n",
       "      <td>11</td>\n",
       "      <td>CASTable('hr_part', caslib='datalib')</td>\n",
       "    </tr>\n",
       "  </tbody>\n",
       "</table>\n",
       "</div>\n",
       "</div>\n",
       "<div class=\"cas-output-area\"></div>\n",
       "<p class=\"cas-results-performance\"><small><span class=\"cas-elapsed\">elapsed 0.139s</span> &#183; <span class=\"cas-user\">user 0.024s</span> &#183; <span class=\"cas-sys\">sys 0.011s</span> &#183; <span class=\"cas-memory\">mem 18.6MB</span></small></p>"
      ],
      "text/plain": [
       "[outputSize]\n",
       "\n",
       " {'outputNObs': 14999.0, 'outputNVars': 11}\n",
       "\n",
       "[STRAFreq]\n",
       "\n",
       " Frequencies\n",
       " \n",
       "    ByGrpID          left   NObs  NSamp\n",
       " 0        0             0  11428   8000\n",
       " 1        1             1   3571   2500\n",
       "\n",
       "[OutputCasTables]\n",
       "\n",
       "     casLib     Name Label   Rows  Columns  \\\n",
       " 0  datalib  hr_part        14999       11   \n",
       " \n",
       "                                 casTable  \n",
       " 0  CASTable('hr_part', caslib='datalib')  \n",
       "\n",
       "+ Elapsed: 0.139s, user: 0.024s, sys: 0.011s, mem: 18.6mb"
      ]
     },
     "execution_count": 48,
     "metadata": {},
     "output_type": "execute_result"
    }
   ],
   "source": [
    "sess.sampling.stratified(\n",
    "  table={\"name\":\"hr_data\", \"groupBy\":target},\n",
    "  output={\"casOut\":{\"name\":\"hr_part\", \"replace\":True}, \"copyVars\":\"ALL\"},\n",
    "  samppct=70,\n",
    "  partind=True\n",
    ")\n"
   ]
  },
  {
   "cell_type": "markdown",
   "metadata": {},
   "source": [
    "## Build Classifiers "
   ]
  },
  {
   "cell_type": "markdown",
   "metadata": {},
   "source": [
    "### Logistic Regression"
   ]
  },
  {
   "cell_type": "code",
   "execution_count": 49,
   "metadata": {
    "collapsed": false
   },
   "outputs": [
    {
     "name": "stdout",
     "output_type": "stream",
     "text": [
      "NOTE: Convergence criterion (GCONV=1E-8) satisfied.\n"
     ]
    },
    {
     "data": {
      "text/html": [
       "\n",
       "    <style type=\"text/css\">\n",
       "    div.cas-results {\n",
       "        overflow-x: auto;\n",
       "    }\n",
       "    div.cas-results > * {\n",
       "        margin-left: auto !important;\n",
       "        margin-right: auto !important;\n",
       "    }\n",
       "    div.cas-results .sas-dataframe th[colspan],\n",
       "    div.cas-results .byline {\n",
       "        text-align: center;\n",
       "        font-size: 110%;\n",
       "    }\n",
       "    div.cas-results .sas-dataframe > tbody > tr:nth-child(even) {\n",
       "        background-color: #f8f8f8;\n",
       "    }\n",
       "    div.cas-results .sas-dataframe td,\n",
       "    div.cas-results .sas-dataframe th {\n",
       "        border: 1px solid #aaaaaa;\n",
       "        padding: 5px 10px;\n",
       "    }\n",
       "    div.cas-results .sas-dataframe th {\n",
       "        background-color: #f0f0f0;\n",
       "    }\n",
       "    div.cas-results .sas-dataframe .double,\n",
       "    div.cas-results .sas-dataframe .int32,\n",
       "    div.cas-results .sas-dataframe .int64,\n",
       "    div.cas-results .sas-dataframe .decsext,\n",
       "    div.cas-results .sas-dataframe .decquad {\n",
       "        text-align: right;\n",
       "    }\n",
       "    </style>\n",
       "<div class=\"cas-results\"><table class=\"sas-dataframe\">\n",
       "<colgroup><col class=\"char\" /><col class=\"char\" /><col class=\"char\" /></colgroup>\n",
       "<thead>\n",
       "<tr><th colspan=\"3\">Model Information</th></tr>\n",
       "<th class=\"char\">RowId</th>\n",
       "<th class=\"char\">Description</th>\n",
       "<th class=\"char\">Value</th>\n",
       "</thead>\n",
       "<tbody>\n",
       "<tr><td class=\"char\">DATA</td><td class=\"char\">Data Source</td><td class=\"char\">HR_PART</td></tr>\n",
       "<tr><td class=\"char\">RESPONSEVAR</td><td class=\"char\">Response Variable</td><td class=\"char\">left</td></tr>\n",
       "<tr><td class=\"char\">DIST</td><td class=\"char\">Distribution</td><td class=\"char\">Binary</td></tr>\n",
       "<tr><td class=\"char\">LINK</td><td class=\"char\">Link Function</td><td class=\"char\">Logit</td></tr>\n",
       "<tr><td class=\"char\">TECH</td><td class=\"char\">Optimization Technique</td><td class=\"char\">Newton-Raphson with Ridging</td></tr>\n",
       "</tbody>\n",
       "</table><table class=\"sas-dataframe\">\n",
       "<colgroup><col class=\"char\" /><col class=\"char\" /><col class=\"double\" /><col class=\"double\" /><col class=\"double\" /></colgroup>\n",
       "<thead>\n",
       "<tr><th colspan=\"5\">Number of Observations</th></tr>\n",
       "<th class=\"char\">RowId</th>\n",
       "<th class=\"char\">Description</th>\n",
       "<th class=\"double\">Total</th>\n",
       "<th class=\"double\">Training</th>\n",
       "<th class=\"double\">Validation</th>\n",
       "</thead>\n",
       "<tbody>\n",
       "<tr><td class=\"char\">NREAD</td><td class=\"char\">Number of Observations Read</td><td class=\"double\">14999</td><td class=\"double\">10500</td><td class=\"double\">4499</td></tr>\n",
       "<tr><td class=\"char\">NUSED</td><td class=\"char\">Number of Observations Used</td><td class=\"double\">14999</td><td class=\"double\">10500</td><td class=\"double\">4499</td></tr>\n",
       "</tbody>\n",
       "</table><table class=\"sas-dataframe\">\n",
       "<colgroup><col class=\"int32\" /><col class=\"char\" /><col class=\"double\" /><col class=\"double\" /><col class=\"double\" /><col class=\"double\" /><col class=\"char\" /></colgroup>\n",
       "<thead>\n",
       "<tr><th colspan=\"7\">Response Profile</th></tr>\n",
       "<th class=\"int32\">Ordered Value</th>\n",
       "<th class=\"char\">left</th>\n",
       "<th class=\"double\">left</th>\n",
       "<th class=\"double\">Total Frequency</th>\n",
       "<th class=\"double\">Training</th>\n",
       "<th class=\"double\">Validation</th>\n",
       "<th class=\"char\">Probability Modeled</th>\n",
       "</thead>\n",
       "<tbody>\n",
       "<tr><td class=\"int32\">1</td><td class=\"char\">0</td><td class=\"double\">0</td><td class=\"double\">11428</td><td class=\"double\">8000</td><td class=\"double\">3428</td><td class=\"char\"></td></tr>\n",
       "<tr><td class=\"int32\">2</td><td class=\"char\">1</td><td class=\"double\">1</td><td class=\"double\">3571</td><td class=\"double\">2500</td><td class=\"double\">1071</td><td class=\"char\">*</td></tr>\n",
       "</tbody>\n",
       "</table><table class=\"sas-dataframe\">\n",
       "<colgroup><col class=\"char\" /><col class=\"double\" /><col class=\"char\" /></colgroup>\n",
       "<thead>\n",
       "<tr><th colspan=\"3\">Class Level Information</th></tr>\n",
       "<th class=\"char\">Class</th>\n",
       "<th class=\"double\">Levels</th>\n",
       "<th class=\"char\">Values</th>\n",
       "</thead>\n",
       "<tbody>\n",
       "<tr><td class=\"char\">sales</td><td class=\"double\">10</td><td class=\"char\">IT RandD accounting hr management marketing product_mng sales support technical</td></tr>\n",
       "<tr><td class=\"char\">salary</td><td class=\"double\">3</td><td class=\"char\">high low medium</td></tr>\n",
       "</tbody>\n",
       "</table><table class=\"sas-dataframe\">\n",
       "<colgroup><col class=\"char\" /><col class=\"char\" /><col class=\"double\" /></colgroup>\n",
       "<thead>\n",
       "<tr><th colspan=\"3\">Selection Information</th></tr>\n",
       "<th class=\"char\">Description</th>\n",
       "<th class=\"char\">Value</th>\n",
       "<th class=\"double\">Numeric Value</th>\n",
       "</thead>\n",
       "<tbody>\n",
       "<tr><td class=\"char\">Selection Method</td><td class=\"char\">Backward</td><td class=\"double\">nan</td></tr>\n",
       "<tr><td class=\"char\">Select Criterion</td><td class=\"char\">SBC</td><td class=\"double\">nan</td></tr>\n",
       "<tr><td class=\"char\">Stop Criterion</td><td class=\"char\">SBC</td><td class=\"double\">nan</td></tr>\n",
       "<tr><td class=\"char\">Effect Hierarchy Enforced</td><td class=\"char\">Single</td><td class=\"double\">nan</td></tr>\n",
       "<tr><td class=\"char\">Stop Horizon</td><td class=\"char\">3</td><td class=\"double\">3</td></tr>\n",
       "</tbody>\n",
       "</table><table class=\"sas-dataframe\">\n",
       "<colgroup><col class=\"char\" /><col class=\"int32\" /><col class=\"double\" /></colgroup>\n",
       "<thead>\n",
       "<tr><th colspan=\"3\">Convergence Status</th></tr>\n",
       "<th class=\"char\">Reason</th>\n",
       "<th class=\"int32\">Status</th>\n",
       "<th class=\"double\">Max Gradient</th>\n",
       "</thead>\n",
       "<tbody>\n",
       "<tr><td class=\"char\">Convergence criterion (GCONV=1E-8) satisfied.</td><td class=\"int32\">0</td><td class=\"double\">1.4679508E-9</td></tr>\n",
       "</tbody>\n",
       "</table><table class=\"sas-dataframe\">\n",
       "<colgroup><col class=\"char\" /><col class=\"int32\" /><col class=\"char\" /><col class=\"int32\" /><col class=\"double\" /><col class=\"int32\" /></colgroup>\n",
       "<thead>\n",
       "<tr><th colspan=\"6\">Selection Summary</th></tr>\n",
       "<th class=\"char\">Control</th>\n",
       "<th class=\"int32\">Step</th>\n",
       "<th class=\"char\">Effect Removed</th>\n",
       "<th class=\"int32\">Number Of Effects</th>\n",
       "<th class=\"double\">SBC</th>\n",
       "<th class=\"int32\">Optimal SBC</th>\n",
       "</thead>\n",
       "<tbody>\n",
       "<tr><td class=\"char\"></td><td class=\"int32\">0</td><td class=\"char\"></td><td class=\"int32\">10</td><td class=\"double\">9179.2564979</td><td class=\"int32\">0</td></tr>\n",
       "<tr><td class=\"char\">-</td><td class=\"int32\">1</td><td class=\"char\">sales</td><td class=\"int32\">9</td><td class=\"double\">9133.5197095</td><td class=\"int32\">1</td></tr>\n",
       "<tr><td class=\"char\"></td><td class=\"int32\">2</td><td class=\"char\">last_evaluation</td><td class=\"int32\">8</td><td class=\"double\">9143.8630141</td><td class=\"int32\">0</td></tr>\n",
       "<tr><td class=\"char\"></td><td class=\"int32\">3</td><td class=\"char\">promotion_last_5years</td><td class=\"int32\">7</td><td class=\"double\">9158.1405807</td><td class=\"int32\">0</td></tr>\n",
       "<tr><td class=\"char\"></td><td class=\"int32\">4</td><td class=\"char\">average_montly_hours</td><td class=\"int32\">6</td><td class=\"double\">9217.4520022</td><td class=\"int32\">0</td></tr>\n",
       "</tbody>\n",
       "</table><table class=\"sas-dataframe\">\n",
       "<colgroup><col class=\"char\" /><col class=\"int32\" /></colgroup>\n",
       "<thead>\n",
       "<tr><th colspan=\"2\">Stop Reason</th></tr>\n",
       "<th class=\"char\">Reason</th>\n",
       "<th class=\"int32\">Code</th>\n",
       "</thead>\n",
       "<tbody>\n",
       "<tr><td class=\"char\">Selection stopped at a local minimum of the STOP criterion.</td><td class=\"int32\">6</td></tr>\n",
       "</tbody>\n",
       "</table><table class=\"sas-dataframe\">\n",
       "<colgroup><col class=\"char\" /></colgroup>\n",
       "<thead>\n",
       "<tr><th colspan=\"1\">Selection Reason</th></tr>\n",
       "<th class=\"char\">Reason</th>\n",
       "</thead>\n",
       "<tbody>\n",
       "<tr><td class=\"char\">The model at step 1 is selected.</td></tr>\n",
       "</tbody>\n",
       "</table><table class=\"sas-dataframe\">\n",
       "<colgroup><col class=\"char\" /><col class=\"char\" /></colgroup>\n",
       "<thead>\n",
       "<tr><th colspan=\"2\">Selected Effects</th></tr>\n",
       "<th class=\"char\">Label</th>\n",
       "<th class=\"char\">Effects</th>\n",
       "</thead>\n",
       "<tbody>\n",
       "<tr><td class=\"char\">Selected Effects:</td><td class=\"char\">Intercept satisfaction_level last_evaluation number_project average_montly_hours time_spend_company Work_accident promotion_last_5years salary</td></tr>\n",
       "</tbody>\n",
       "</table><table class=\"sas-dataframe\">\n",
       "<colgroup><col class=\"char\" /><col class=\"char\" /><col class=\"int32\" /></colgroup>\n",
       "<thead>\n",
       "<tr><th colspan=\"3\">Dimensions</th></tr>\n",
       "<th class=\"char\">RowId</th>\n",
       "<th class=\"char\">Description</th>\n",
       "<th class=\"int32\">Value</th>\n",
       "</thead>\n",
       "<tbody>\n",
       "<tr><td class=\"char\">NDESIGNCOLS</td><td class=\"char\">Columns in Design</td><td class=\"int32\">11</td></tr>\n",
       "<tr><td class=\"char\">NEFFECTS</td><td class=\"char\">Number of Effects</td><td class=\"int32\">9</td></tr>\n",
       "<tr><td class=\"char\">MAXEFCOLS</td><td class=\"char\">Max Effect Columns</td><td class=\"int32\">3</td></tr>\n",
       "<tr><td class=\"char\">DESIGNRANK</td><td class=\"char\">Rank of Design</td><td class=\"int32\">10</td></tr>\n",
       "<tr><td class=\"char\">OPTPARM</td><td class=\"char\">Parameters in Optimization</td><td class=\"int32\">10</td></tr>\n",
       "</tbody>\n",
       "</table><table class=\"sas-dataframe\">\n",
       "<colgroup><col class=\"char\" /><col class=\"int32\" /><col class=\"double\" /><col class=\"double\" /></colgroup>\n",
       "<thead>\n",
       "<tr><th colspan=\"4\">Likelihood Ratio Test</th></tr>\n",
       "<th class=\"char\">Test</th>\n",
       "<th class=\"int32\">DF</th>\n",
       "<th class=\"double\">Chi-Square</th>\n",
       "<th class=\"double\">Pr > ChiSq</th>\n",
       "</thead>\n",
       "<tbody>\n",
       "<tr><td class=\"char\">Likelihood Ratio</td><td class=\"int32\">9</td><td class=\"double\">2483.9132782</td><td class=\"double\">0</td></tr>\n",
       "</tbody>\n",
       "</table><table class=\"sas-dataframe\">\n",
       "<colgroup><col class=\"char\" /><col class=\"char\" /><col class=\"double\" /><col class=\"double\" /></colgroup>\n",
       "<thead>\n",
       "<tr><th colspan=\"4\">Fit Statistics</th></tr>\n",
       "<th class=\"char\">RowId</th>\n",
       "<th class=\"char\">Description</th>\n",
       "<th class=\"double\">Training</th>\n",
       "<th class=\"double\">Validation</th>\n",
       "</thead>\n",
       "<tbody>\n",
       "<tr><td class=\"char\">M2LL</td><td class=\"char\">-2 Log Likelihood</td><td class=\"double\">9042.4487959</td><td class=\"double\">3868.151272</td></tr>\n",
       "<tr><td class=\"char\">AIC</td><td class=\"char\">AIC (smaller is better)</td><td class=\"double\">9062.4487959</td><td class=\"double\">3888.151272</td></tr>\n",
       "<tr><td class=\"char\">AICC</td><td class=\"char\">AICC (smaller is better)</td><td class=\"double\">9062.4697703</td><td class=\"double\">3888.2002916</td></tr>\n",
       "<tr><td class=\"char\">SBC</td><td class=\"char\">SBC (smaller is better)</td><td class=\"double\">9135.0401013</td><td class=\"double\">3952.2673763</td></tr>\n",
       "<tr><td class=\"char\">ASE</td><td class=\"char\">Average Square Error</td><td class=\"double\">0.1398595918</td><td class=\"double\">0.1408758981</td></tr>\n",
       "<tr><td class=\"char\">M2LLNULL</td><td class=\"char\">-2 Log L (Intercept-only)</td><td class=\"double\">11526.362074</td><td class=\"double\">4938.3285621</td></tr>\n",
       "<tr><td class=\"char\">RSQUARE</td><td class=\"char\">R-Square</td><td class=\"double\">0.2106639811</td><td class=\"double\">0.2116948639</td></tr>\n",
       "<tr><td class=\"char\">ADJRSQ</td><td class=\"char\">Max-rescaled R-Square</td><td class=\"double\">0.316132524</td><td class=\"double\">0.3176951839</td></tr>\n",
       "<tr><td class=\"char\">MCFADDEN</td><td class=\"char\">McFadden's R-Square</td><td class=\"double\">0.2154984602</td><td class=\"double\">0.2167084018</td></tr>\n",
       "<tr><td class=\"char\">MISCLASS</td><td class=\"char\">Misclassification Rate</td><td class=\"double\">0.2042857143</td><td class=\"double\">0.2096021338</td></tr>\n",
       "<tr><td class=\"char\">DIFFMEAN</td><td class=\"char\">Difference of Means</td><td class=\"double\">0.2322789251</td><td class=\"double\">0.2348192605</td></tr>\n",
       "</tbody>\n",
       "</table><table class=\"sas-dataframe\">\n",
       "<colgroup><col class=\"char\" /><col class=\"char\" /><col class=\"char\" /><col class=\"char\" /><col class=\"int32\" /><col class=\"double\" /><col class=\"double\" /><col class=\"double\" /><col class=\"double\" /></colgroup>\n",
       "<thead>\n",
       "<tr><th colspan=\"9\">Parameter Estimates</th></tr>\n",
       "<th class=\"char\">Effect</th>\n",
       "<th class=\"char\">salary</th>\n",
       "<th class=\"char\">Parameter</th>\n",
       "<th class=\"char\">Parameter</th>\n",
       "<th class=\"int32\">DF</th>\n",
       "<th class=\"double\">Estimate</th>\n",
       "<th class=\"double\">Standard Error</th>\n",
       "<th class=\"double\">Chi-Square</th>\n",
       "<th class=\"double\">Pr > ChiSq</th>\n",
       "</thead>\n",
       "<tbody>\n",
       "<tr><td class=\"char\">Intercept</td><td class=\"char\"></td><td class=\"char\">Intercept</td><td class=\"char\">Intercept</td><td class=\"int32\">1</td><td class=\"double\">0.0038966573</td><td class=\"double\">0.1444735604</td><td class=\"double\">0.0007274576</td><td class=\"double\">0.9784825278</td></tr>\n",
       "<tr><td class=\"char\">satisfaction_level</td><td class=\"char\"></td><td class=\"char\">satisfaction_level</td><td class=\"char\">satisfaction_level</td><td class=\"int32\">1</td><td class=\"double\">-4.124406336</td><td class=\"double\">0.1167258347</td><td class=\"double\">1248.5010569</td><td class=\"double\">1.75727E-273</td></tr>\n",
       "<tr><td class=\"char\">last_evaluation</td><td class=\"char\"></td><td class=\"char\">last_evaluation</td><td class=\"char\">last_evaluation</td><td class=\"int32\">1</td><td class=\"double\">0.7544528261</td><td class=\"double\">0.1774223539</td><td class=\"double\">18.082043334</td><td class=\"double\">0.0000211587</td></tr>\n",
       "<tr><td class=\"char\">number_project</td><td class=\"char\"></td><td class=\"char\">number_project</td><td class=\"char\">number_project</td><td class=\"int32\">1</td><td class=\"double\">-0.327195835</td><td class=\"double\">0.0254468589</td><td class=\"double\">165.32828869</td><td class=\"double\">7.755262E-38</td></tr>\n",
       "<tr><td class=\"char\">average_montly_hours</td><td class=\"char\"></td><td class=\"char\">average_montly_hours</td><td class=\"char\">average_montly_hours</td><td class=\"int32\">1</td><td class=\"double\">0.0040190388</td><td class=\"double\">0.0006208254</td><td class=\"double\">41.908821335</td><td class=\"double\">9.563024E-11</td></tr>\n",
       "<tr><td class=\"char\">time_spend_company</td><td class=\"char\"></td><td class=\"char\">time_spend_company</td><td class=\"char\">time_spend_company</td><td class=\"int32\">1</td><td class=\"double\">0.2708952065</td><td class=\"double\">0.018486395</td><td class=\"double\">214.73270028</td><td class=\"double\">1.274612E-48</td></tr>\n",
       "<tr><td class=\"char\">Work_accident</td><td class=\"char\"></td><td class=\"char\">Work_accident</td><td class=\"char\">Work_accident</td><td class=\"int32\">1</td><td class=\"double\">-1.53475281</td><td class=\"double\">0.1074789091</td><td class=\"double\">203.90617365</td><td class=\"double\">2.933982E-46</td></tr>\n",
       "<tr><td class=\"char\">promotion_last_5years</td><td class=\"char\"></td><td class=\"char\">promotion_last_5years</td><td class=\"char\">promotion_last_5years</td><td class=\"int32\">1</td><td class=\"double\">-1.37624205</td><td class=\"double\">0.2906154084</td><td class=\"double\">22.426028649</td><td class=\"double\">2.1839419E-6</td></tr>\n",
       "<tr><td class=\"char\">salary</td><td class=\"char\">high</td><td class=\"char\">salary high</td><td class=\"char\">salary_high</td><td class=\"int32\">1</td><td class=\"double\">-1.545343752</td><td class=\"double\">0.1550071394</td><td class=\"double\">99.3909399</td><td class=\"double\">2.072686E-23</td></tr>\n",
       "<tr><td class=\"char\">salary</td><td class=\"char\">low</td><td class=\"char\">salary low</td><td class=\"char\">salary_low</td><td class=\"int32\">1</td><td class=\"double\">0.5465228495</td><td class=\"double\">0.0542608151</td><td class=\"double\">101.44812428</td><td class=\"double\">7.335969E-24</td></tr>\n",
       "<tr><td class=\"char\">salary</td><td class=\"char\">medium</td><td class=\"char\">salary medium</td><td class=\"char\">salary_medium</td><td class=\"int32\">0</td><td class=\"double\">0</td><td class=\"double\">nan</td><td class=\"double\">nan</td><td class=\"double\">nan</td></tr>\n",
       "</tbody>\n",
       "</table><table class=\"sas-dataframe\">\n",
       "<colgroup><col class=\"char\" /><col class=\"char\" /><col class=\"double\" /><col class=\"double\" /></colgroup>\n",
       "<thead>\n",
       "<tr><th colspan=\"4\">Task Timing</th></tr>\n",
       "<th class=\"char\">RowId</th>\n",
       "<th class=\"char\">Task</th>\n",
       "<th class=\"double\">Time</th>\n",
       "<th class=\"double\">Relative Time</th>\n",
       "</thead>\n",
       "<tbody>\n",
       "<tr><td class=\"char\">SETUP</td><td class=\"char\">Setup and Parsing</td><td class=\"double\">0.0038690567</td><td class=\"double\">0.0146399861</td></tr>\n",
       "<tr><td class=\"char\">LEVELIZATION</td><td class=\"char\">Levelization</td><td class=\"double\">0.0082578659</td><td class=\"double\">0.0312466452</td></tr>\n",
       "<tr><td class=\"char\">INITIALIZATION</td><td class=\"char\">Model Initialization</td><td class=\"double\">0.1137368679</td><td class=\"double\">0.43036489</td></tr>\n",
       "<tr><td class=\"char\">SSCP</td><td class=\"char\">SSCP Computation</td><td class=\"double\">0.0127530098</td><td class=\"double\">0.0482556603</td></tr>\n",
       "<tr><td class=\"char\">FITTING</td><td class=\"char\">Model Selection</td><td class=\"double\">0.1115679741</td><td class=\"double\">0.4221580898</td></tr>\n",
       "<tr><td class=\"char\">OUTPUT</td><td class=\"char\">Creating Output Data</td><td class=\"double\">0.0120809078</td><td class=\"double\">0.0457125175</td></tr>\n",
       "<tr><td class=\"char\">CLEANUP</td><td class=\"char\">Cleanup</td><td class=\"double\">0.0017011166</td><td class=\"double\">0.0064367945</td></tr>\n",
       "<tr><td class=\"char\">TOTAL</td><td class=\"char\">Total</td><td class=\"double\">0.2642800808</td><td class=\"double\">1</td></tr>\n",
       "</tbody>\n",
       "</table><table class=\"sas-dataframe\">\n",
       "<colgroup><col class=\"varchar\" /><col class=\"varchar\" /><col class=\"varchar\" /><col class=\"int64\" /><col class=\"int64\" /><col class=\"object\" /></colgroup>\n",
       "<thead>\n",
       "<tr><th colspan=\"6\">Output CAS Tables</th></tr>\n",
       "<th class=\"varchar\">CAS Library</th>\n",
       "<th class=\"varchar\">Name</th>\n",
       "<th class=\"varchar\">Label</th>\n",
       "<th class=\"int64\">Number of Rows</th>\n",
       "<th class=\"int64\">Number of Columns</th>\n",
       "<th class=\"object\">Table</th>\n",
       "</thead>\n",
       "<tbody>\n",
       "<tr><td class=\"varchar\">datalib</td><td class=\"varchar\">_scored_logistic</td><td class=\"varchar\"></td><td class=\"int64\">14999</td><td class=\"int64\">12</td><td class=\"object\">CASTable('_scored_logistic', caslib='datalib')</td></tr>\n",
       "</tbody>\n",
       "</table></div>"
      ]
     },
     "metadata": {},
     "output_type": "display_data"
    },
    {
     "data": {
      "text/html": [
       "<div class=\"cas-results-key\"><b>&#167; InputCasTables</b></div>\n",
       "<div class=\"cas-results-body\">\n",
       "<div>\n",
       "<table border=\"1\" class=\"dataframe\">\n",
       "  <thead>\n",
       "    <tr style=\"text-align: right;\">\n",
       "      <th title=\"\"></th>\n",
       "      <th title=\"CAS Library\">casLib</th>\n",
       "      <th title=\"Name\">Name</th>\n",
       "      <th title=\"Number of Rows\">Rows</th>\n",
       "      <th title=\"Number of Columns\">Columns</th>\n",
       "      <th title=\"Table\">casTable</th>\n",
       "    </tr>\n",
       "  </thead>\n",
       "  <tbody>\n",
       "    <tr>\n",
       "      <th>0</th>\n",
       "      <td>datalib</td>\n",
       "      <td>_scored_logistic</td>\n",
       "      <td>14999</td>\n",
       "      <td>12</td>\n",
       "      <td>CASTable('_scored_logistic', caslib='datalib')</td>\n",
       "    </tr>\n",
       "  </tbody>\n",
       "</table>\n",
       "</div>\n",
       "</div>\n",
       "<div class=\"cas-results-key\"><hr/><b>&#167; OutputCasTables</b></div>\n",
       "<div class=\"cas-results-body\">\n",
       "<div>\n",
       "<table border=\"1\" class=\"dataframe\">\n",
       "  <thead>\n",
       "    <tr style=\"text-align: right;\">\n",
       "      <th title=\"\"></th>\n",
       "      <th title=\"CAS Library\">casLib</th>\n",
       "      <th title=\"Name\">Name</th>\n",
       "      <th title=\"Number of Rows\">Rows</th>\n",
       "      <th title=\"Number of Columns\">Columns</th>\n",
       "      <th title=\"Table\">casTable</th>\n",
       "    </tr>\n",
       "  </thead>\n",
       "  <tbody>\n",
       "    <tr>\n",
       "      <th>0</th>\n",
       "      <td>datalib</td>\n",
       "      <td>_scored_logistic</td>\n",
       "      <td>14999</td>\n",
       "      <td>13</td>\n",
       "      <td>CASTable('_scored_logistic', caslib='datalib')</td>\n",
       "    </tr>\n",
       "  </tbody>\n",
       "</table>\n",
       "</div>\n",
       "</div>\n",
       "<div class=\"cas-output-area\"></div>\n",
       "<p class=\"cas-results-performance\"><small><span class=\"cas-elapsed\">elapsed 0.178s</span> &#183; <span class=\"cas-user\">user 0.026s</span> &#183; <span class=\"cas-sys\">sys 0.021s</span> &#183; <span class=\"cas-memory\">mem 17.6MB</span></small></p>"
      ],
      "text/plain": [
       "[InputCasTables]\n",
       "\n",
       "     casLib              Name   Rows  Columns  \\\n",
       " 0  datalib  _scored_logistic  14999       12   \n",
       " \n",
       "                                          casTable  \n",
       " 0  CASTable('_scored_logistic', caslib='datalib')  \n",
       "\n",
       "[OutputCasTables]\n",
       "\n",
       "     casLib              Name   Rows  Columns  \\\n",
       " 0  datalib  _scored_logistic  14999       13   \n",
       " \n",
       "                                          casTable  \n",
       " 0  CASTable('_scored_logistic', caslib='datalib')  \n",
       "\n",
       "+ Elapsed: 0.178s, user: 0.026s, sys: 0.021s, mem: 17.6mb"
      ]
     },
     "execution_count": 49,
     "metadata": {},
     "output_type": "execute_result"
    }
   ],
   "source": [
    "lr = sess.regression.logistic(\n",
    "  table={\"name\":\"hr_part\"},\n",
    "  classVars=class_vars,\n",
    "  model={\n",
    "    \"depVars\":[{\"name\":'left', \"options\":{\"event\":\"1\"}}],\n",
    "    \"effects\":all_inputs\n",
    "  },\n",
    "  partByVar={\"name\": \"_partind_\", \"train\": \"1\", \"valid\": \"0\"},\n",
    "  selection={\"method\":\"BACKWARD\"},\n",
    "  output={\"casOut\":{\"name\":\"_scored_logistic\", \"replace\":True}, \"copyVars\":\"ALL\"}\n",
    ")\n",
    "\n",
    "# Output model statistics\n",
    "render_html(lr)\n",
    "\n",
    "# Compute _pred0_ variable (1-_pred_)\n",
    "sess.dataStep.runCode(\n",
    "  code=\"data _scored_logistic; set _scored_logistic; _pred0_=1-_pred_; run;\"\n",
    ")"
   ]
  },
  {
   "cell_type": "markdown",
   "metadata": {},
   "source": [
    "### Gradient Boosting"
   ]
  },
  {
   "cell_type": "code",
   "execution_count": 50,
   "metadata": {
    "collapsed": false
   },
   "outputs": [
    {
     "data": {
      "text/html": [
       "\n",
       "    <style type=\"text/css\">\n",
       "    div.cas-results {\n",
       "        overflow-x: auto;\n",
       "    }\n",
       "    div.cas-results > * {\n",
       "        margin-left: auto !important;\n",
       "        margin-right: auto !important;\n",
       "    }\n",
       "    div.cas-results .sas-dataframe th[colspan],\n",
       "    div.cas-results .byline {\n",
       "        text-align: center;\n",
       "        font-size: 110%;\n",
       "    }\n",
       "    div.cas-results .sas-dataframe > tbody > tr:nth-child(even) {\n",
       "        background-color: #f8f8f8;\n",
       "    }\n",
       "    div.cas-results .sas-dataframe td,\n",
       "    div.cas-results .sas-dataframe th {\n",
       "        border: 1px solid #aaaaaa;\n",
       "        padding: 5px 10px;\n",
       "    }\n",
       "    div.cas-results .sas-dataframe th {\n",
       "        background-color: #f0f0f0;\n",
       "    }\n",
       "    div.cas-results .sas-dataframe .double,\n",
       "    div.cas-results .sas-dataframe .int32,\n",
       "    div.cas-results .sas-dataframe .int64,\n",
       "    div.cas-results .sas-dataframe .decsext,\n",
       "    div.cas-results .sas-dataframe .decquad {\n",
       "        text-align: right;\n",
       "    }\n",
       "    </style>\n",
       "<div class=\"cas-results\"><table class=\"sas-dataframe\">\n",
       "<colgroup><col class=\"char\" /><col class=\"double\" /></colgroup>\n",
       "<thead>\n",
       "<tr><th colspan=\"2\">Gradient Boosting Tree for HR_PART</th></tr>\n",
       "<th class=\"char\">Descr</th>\n",
       "<th class=\"double\">Value</th>\n",
       "</thead>\n",
       "<tbody>\n",
       "<tr><td class=\"char\">Number of Trees</td><td class=\"double\">10</td></tr>\n",
       "<tr><td class=\"char\">Distribution</td><td class=\"double\">2</td></tr>\n",
       "<tr><td class=\"char\">Learning Rate</td><td class=\"double\">0.1</td></tr>\n",
       "<tr><td class=\"char\">Subsampling Rate</td><td class=\"double\">0.5</td></tr>\n",
       "<tr><td class=\"char\">Number of Selected Variables (M)</td><td class=\"double\">9</td></tr>\n",
       "<tr><td class=\"char\">Number of Bins</td><td class=\"double\">20</td></tr>\n",
       "<tr><td class=\"char\">Number of Variables</td><td class=\"double\">9</td></tr>\n",
       "<tr><td class=\"char\">Max Number of Tree Nodes</td><td class=\"double\">63</td></tr>\n",
       "<tr><td class=\"char\">Min Number of Tree Nodes</td><td class=\"double\">55</td></tr>\n",
       "<tr><td class=\"char\">Max Number of Branches</td><td class=\"double\">2</td></tr>\n",
       "<tr><td class=\"char\">Min Number of Branches</td><td class=\"double\">2</td></tr>\n",
       "<tr><td class=\"char\">Max Number of Levels</td><td class=\"double\">6</td></tr>\n",
       "<tr><td class=\"char\">Min Number of Levels</td><td class=\"double\">6</td></tr>\n",
       "<tr><td class=\"char\">Max Number of Leaves</td><td class=\"double\">32</td></tr>\n",
       "<tr><td class=\"char\">Min Number of Leaves</td><td class=\"double\">28</td></tr>\n",
       "<tr><td class=\"char\">Maximum Size of Leaves</td><td class=\"double\">2931</td></tr>\n",
       "<tr><td class=\"char\">Minimum Size of Leaves</td><td class=\"double\">5</td></tr>\n",
       "<tr><td class=\"char\">Random Number Seed</td><td class=\"double\">0</td></tr>\n",
       "</tbody>\n",
       "</table><table class=\"sas-dataframe\">\n",
       "<colgroup><col class=\"char\" /><col class=\"double\" /><col class=\"double\" /></colgroup>\n",
       "<thead>\n",
       "<tr><th colspan=\"3\">Decision Tree for HR_PART</th></tr>\n",
       "<th class=\"char\">Analysis Variable</th>\n",
       "<th class=\"double\">Importance</th>\n",
       "<th class=\"double\">Std</th>\n",
       "</thead>\n",
       "<tbody>\n",
       "<tr><td class=\"char\">satisfaction_level</td><td class=\"double\">477.0191263</td><td class=\"double\">159.46300448</td></tr>\n",
       "<tr><td class=\"char\">time_spend_company</td><td class=\"double\">219.61178696</td><td class=\"double\">72.285143689</td></tr>\n",
       "<tr><td class=\"char\">last_evaluation</td><td class=\"double\">103.31085211</td><td class=\"double\">40.910684355</td></tr>\n",
       "<tr><td class=\"char\">number_project</td><td class=\"double\">97.37314011</td><td class=\"double\">37.5102576</td></tr>\n",
       "<tr><td class=\"char\">average_montly_hours</td><td class=\"double\">59.700110088</td><td class=\"double\">19.046412581</td></tr>\n",
       "<tr><td class=\"char\">sales</td><td class=\"double\">8.6224119162</td><td class=\"double\">1.621486958</td></tr>\n",
       "<tr><td class=\"char\">salary</td><td class=\"double\">1.3381620227</td><td class=\"double\">1.4530221213</td></tr>\n",
       "<tr><td class=\"char\">Work_accident</td><td class=\"double\">0.5306958135</td><td class=\"double\">1.5161024463</td></tr>\n",
       "</tbody>\n",
       "</table><table class=\"sas-dataframe\">\n",
       "<colgroup><col class=\"varchar\" /><col class=\"varchar\" /><col class=\"int64\" /><col class=\"int64\" /><col class=\"object\" /></colgroup>\n",
       "<thead>\n",
       "<tr><th colspan=\"5\">Output CAS Tables</th></tr>\n",
       "<th class=\"varchar\">CAS Library</th>\n",
       "<th class=\"varchar\">Name</th>\n",
       "<th class=\"int64\">Number of Rows</th>\n",
       "<th class=\"int64\">Number of Columns</th>\n",
       "<th class=\"object\">Table</th>\n",
       "</thead>\n",
       "<tbody>\n",
       "<tr><td class=\"varchar\">datalib</td><td class=\"varchar\">gb_model</td><td class=\"int64\">604</td><td class=\"int64\">36</td><td class=\"object\">CASTable('gb_model', caslib='datalib')</td></tr>\n",
       "</tbody>\n",
       "</table></div>"
      ]
     },
     "metadata": {},
     "output_type": "display_data"
    },
    {
     "name": "stdout",
     "output_type": "stream",
     "text": [
      "NOTE: Character values have been converted to numeric values at the places given by: (Line):(Column).\n",
      "      0:35    0:114\n",
      "NOTE: Duplicate messages output by DATA step:\n",
      "NOTE: Character values have been converted to numeric values at the places given by: (Line):(Column).  (occurred 8 times)\n",
      "      0:35    0:114  (occurred 8 times)\n"
     ]
    },
    {
     "data": {
      "text/html": [
       "<div class=\"cas-results-key\"><b>&#167; InputCasTables</b></div>\n",
       "<div class=\"cas-results-body\">\n",
       "<div>\n",
       "<table border=\"1\" class=\"dataframe\">\n",
       "  <thead>\n",
       "    <tr style=\"text-align: right;\">\n",
       "      <th title=\"\"></th>\n",
       "      <th title=\"CAS Library\">casLib</th>\n",
       "      <th title=\"Name\">Name</th>\n",
       "      <th title=\"Number of Rows\">Rows</th>\n",
       "      <th title=\"Number of Columns\">Columns</th>\n",
       "      <th title=\"Table\">casTable</th>\n",
       "    </tr>\n",
       "  </thead>\n",
       "  <tbody>\n",
       "    <tr>\n",
       "      <th>0</th>\n",
       "      <td>datalib</td>\n",
       "      <td>_scored_gb</td>\n",
       "      <td>14999</td>\n",
       "      <td>6</td>\n",
       "      <td>CASTable('_scored_gb', caslib='datalib')</td>\n",
       "    </tr>\n",
       "  </tbody>\n",
       "</table>\n",
       "</div>\n",
       "</div>\n",
       "<div class=\"cas-results-key\"><hr/><b>&#167; OutputCasTables</b></div>\n",
       "<div class=\"cas-results-body\">\n",
       "<div>\n",
       "<table border=\"1\" class=\"dataframe\">\n",
       "  <thead>\n",
       "    <tr style=\"text-align: right;\">\n",
       "      <th title=\"\"></th>\n",
       "      <th title=\"CAS Library\">casLib</th>\n",
       "      <th title=\"Name\">Name</th>\n",
       "      <th title=\"Number of Rows\">Rows</th>\n",
       "      <th title=\"Number of Columns\">Columns</th>\n",
       "      <th title=\"Table\">casTable</th>\n",
       "    </tr>\n",
       "  </thead>\n",
       "  <tbody>\n",
       "    <tr>\n",
       "      <th>0</th>\n",
       "      <td>datalib</td>\n",
       "      <td>_scored_gb</td>\n",
       "      <td>14999</td>\n",
       "      <td>8</td>\n",
       "      <td>CASTable('_scored_gb', caslib='datalib')</td>\n",
       "    </tr>\n",
       "  </tbody>\n",
       "</table>\n",
       "</div>\n",
       "</div>\n",
       "<div class=\"cas-output-area\"></div>\n",
       "<p class=\"cas-results-performance\"><small><span class=\"cas-elapsed\">elapsed 0.0223s</span> &#183; <span class=\"cas-user\">user 0.026s</span> &#183; <span class=\"cas-sys\">sys 0.012s</span> &#183; <span class=\"cas-memory\">mem 15MB</span></small></p>"
      ],
      "text/plain": [
       "[InputCasTables]\n",
       "\n",
       "     casLib        Name   Rows  Columns  \\\n",
       " 0  datalib  _scored_gb  14999        6   \n",
       " \n",
       "                                    casTable  \n",
       " 0  CASTable('_scored_gb', caslib='datalib')  \n",
       "\n",
       "[OutputCasTables]\n",
       "\n",
       "     casLib        Name   Rows  Columns  \\\n",
       " 0  datalib  _scored_gb  14999        8   \n",
       " \n",
       "                                    casTable  \n",
       " 0  CASTable('_scored_gb', caslib='datalib')  \n",
       "\n",
       "+ Elapsed: 0.0223s, user: 0.026s, sys: 0.012s, mem: 15mb"
      ]
     },
     "execution_count": 50,
     "metadata": {},
     "output_type": "execute_result"
    }
   ],
   "source": [
    "gb = sess.decisionTree.gbtreeTrain(\n",
    "  table={\n",
    "    \"name\":\"hr_part\",\n",
    "    \"where\":\"strip(put(_partind_, best.))='1'\"\n",
    "  },\n",
    "  inputs=all_inputs,\n",
    "  nominals=class_vars,\n",
    "  target=\"left\",\n",
    "  nTree=10,\n",
    "  nBins=20,\n",
    "  maxLevel=6,\n",
    "  varImp=True,\n",
    "  missing=\"USEINSEARCH\",\n",
    "  casOut={\"name\":\"gb_model\", \"replace\":True}\n",
    ")\n",
    "\n",
    "# Output model statistics\n",
    "render_html(gb)\n",
    "\n",
    "# Score \n",
    "sess.decisionTree.gbtreeScore(\n",
    "  table={\"name\":\"hr_part\"},\n",
    "  modelTable={\"name\":\"gb_model\"},\n",
    "  casOut={\"name\":\"_scored_gb\", \"replace\":True},\n",
    "  copyVars={\"left\", \"_partind_\"}\n",
    ")\n",
    "\n",
    "# Create p_left0 and p_left1 as _gbt_predp_ is the probability of event in _gbt_predname_\n",
    "sess.dataStep.runCode(\n",
    "  code=\"\"\"data _scored_gb; set _scored_gb; if _gbt_predname_=1 then do; p_left1=_gbt_predp_; \n",
    "    p_left0=1-p_left1; end; if _gbt_predname_=0 then do; p_left0=_gbt_predp_; p_left1=1-p_left0; end; run;\"\"\"\n",
    ")"
   ]
  },
  {
   "cell_type": "markdown",
   "metadata": {},
   "source": [
    "### Random Forest"
   ]
  },
  {
   "cell_type": "code",
   "execution_count": 51,
   "metadata": {
    "collapsed": false
   },
   "outputs": [
    {
     "data": {
      "text/html": [
       "\n",
       "    <style type=\"text/css\">\n",
       "    div.cas-results {\n",
       "        overflow-x: auto;\n",
       "    }\n",
       "    div.cas-results > * {\n",
       "        margin-left: auto !important;\n",
       "        margin-right: auto !important;\n",
       "    }\n",
       "    div.cas-results .sas-dataframe th[colspan],\n",
       "    div.cas-results .byline {\n",
       "        text-align: center;\n",
       "        font-size: 110%;\n",
       "    }\n",
       "    div.cas-results .sas-dataframe > tbody > tr:nth-child(even) {\n",
       "        background-color: #f8f8f8;\n",
       "    }\n",
       "    div.cas-results .sas-dataframe td,\n",
       "    div.cas-results .sas-dataframe th {\n",
       "        border: 1px solid #aaaaaa;\n",
       "        padding: 5px 10px;\n",
       "    }\n",
       "    div.cas-results .sas-dataframe th {\n",
       "        background-color: #f0f0f0;\n",
       "    }\n",
       "    div.cas-results .sas-dataframe .double,\n",
       "    div.cas-results .sas-dataframe .int32,\n",
       "    div.cas-results .sas-dataframe .int64,\n",
       "    div.cas-results .sas-dataframe .decsext,\n",
       "    div.cas-results .sas-dataframe .decquad {\n",
       "        text-align: right;\n",
       "    }\n",
       "    </style>\n",
       "<div class=\"cas-results\"><table class=\"sas-dataframe\">\n",
       "<colgroup><col class=\"char\" /><col class=\"double\" /></colgroup>\n",
       "<thead>\n",
       "<tr><th colspan=\"2\">Forest for HR_PART</th></tr>\n",
       "<th class=\"char\">Descr</th>\n",
       "<th class=\"double\">Value</th>\n",
       "</thead>\n",
       "<tbody>\n",
       "<tr><td class=\"char\">Number of Trees</td><td class=\"double\">20</td></tr>\n",
       "<tr><td class=\"char\">Number of Selected Variables (M)</td><td class=\"double\">3</td></tr>\n",
       "<tr><td class=\"char\">Random Number Seed</td><td class=\"double\">0</td></tr>\n",
       "<tr><td class=\"char\">Bootstrap Percentage (%)</td><td class=\"double\">63.212055882</td></tr>\n",
       "<tr><td class=\"char\">Number of Bins</td><td class=\"double\">20</td></tr>\n",
       "<tr><td class=\"char\">Number of Variables</td><td class=\"double\">9</td></tr>\n",
       "<tr><td class=\"char\">Confidence Level for Pruning</td><td class=\"double\">0.25</td></tr>\n",
       "<tr><td class=\"char\">Max Number of Tree Nodes</td><td class=\"double\">465</td></tr>\n",
       "<tr><td class=\"char\">Min Number of Tree Nodes</td><td class=\"double\">343</td></tr>\n",
       "<tr><td class=\"char\">Max Number of Branches</td><td class=\"double\">2</td></tr>\n",
       "<tr><td class=\"char\">Min Number of Branches</td><td class=\"double\">2</td></tr>\n",
       "<tr><td class=\"char\">Max Number of Levels</td><td class=\"double\">19</td></tr>\n",
       "<tr><td class=\"char\">Min Number of Levels</td><td class=\"double\">16</td></tr>\n",
       "<tr><td class=\"char\">Max Number of Leaves</td><td class=\"double\">233</td></tr>\n",
       "<tr><td class=\"char\">Min Number of Leaves</td><td class=\"double\">172</td></tr>\n",
       "<tr><td class=\"char\">Maximum Size of Leaves</td><td class=\"double\">1327</td></tr>\n",
       "<tr><td class=\"char\">Minimum Size of Leaves</td><td class=\"double\">5</td></tr>\n",
       "<tr><td class=\"char\">Out-of-Bag MCR (%)</td><td class=\"double\">2.6857142857</td></tr>\n",
       "</tbody>\n",
       "</table><table class=\"sas-dataframe\">\n",
       "<colgroup><col class=\"double\" /><col class=\"double\" /><col class=\"double\" /><col class=\"double\" /><col class=\"double\" /><col class=\"double\" /><col class=\"double\" /><col class=\"double\" /></colgroup>\n",
       "<thead>\n",
       "<tr><th colspan=\"8\">OOB Error With Forest Analytics for HR_PART</th></tr>\n",
       "<th class=\"double\">TreeID</th>\n",
       "<th class=\"double\">Trees</th>\n",
       "<th class=\"double\">NLeaves</th>\n",
       "<th class=\"double\">MCR</th>\n",
       "<th class=\"double\">LogLoss</th>\n",
       "<th class=\"double\">ASE</th>\n",
       "<th class=\"double\">RASE</th>\n",
       "<th class=\"double\">MAXAE</th>\n",
       "</thead>\n",
       "<tbody>\n",
       "<tr><td class=\"double\">0</td><td class=\"double\">1</td><td class=\"double\">203</td><td class=\"double\">0.0420694594</td><td class=\"double\">0.4380013422</td><td class=\"double\">0.0346812203</td><td class=\"double\">0.1862289459</td><td class=\"double\">1</td></tr>\n",
       "<tr><td class=\"double\">1</td><td class=\"double\">2</td><td class=\"double\">422</td><td class=\"double\">0.0390500673</td><td class=\"double\">0.4002314133</td><td class=\"double\">0.0326112452</td><td class=\"double\">0.1805858388</td><td class=\"double\">1</td></tr>\n",
       "<tr><td class=\"double\">2</td><td class=\"double\">3</td><td class=\"double\">599</td><td class=\"double\">0.0368800339</td><td class=\"double\">0.3171537456</td><td class=\"double\">0.0296054024</td><td class=\"double\">0.172062205</td><td class=\"double\">1</td></tr>\n",
       "<tr><td class=\"double\">3</td><td class=\"double\">4</td><td class=\"double\">795</td><td class=\"double\">0.0336596085</td><td class=\"double\">0.2578634868</td><td class=\"double\">0.027265868</td><td class=\"double\">0.1651237961</td><td class=\"double\">1</td></tr>\n",
       "<tr><td class=\"double\">4</td><td class=\"double\">5</td><td class=\"double\">1028</td><td class=\"double\">0.0322172474</td><td class=\"double\">0.2285647035</td><td class=\"double\">0.0265685735</td><td class=\"double\">0.1629986917</td><td class=\"double\">1</td></tr>\n",
       "<tr><td class=\"double\">5</td><td class=\"double\">6</td><td class=\"double\">1239</td><td class=\"double\">0.0308077404</td><td class=\"double\">0.2069780616</td><td class=\"double\">0.0263398737</td><td class=\"double\">0.1622956367</td><td class=\"double\">1</td></tr>\n",
       "<tr><td class=\"double\">6</td><td class=\"double\">7</td><td class=\"double\">1416</td><td class=\"double\">0.0284128958</td><td class=\"double\">0.1820825916</td><td class=\"double\">0.024888167</td><td class=\"double\">0.1577598395</td><td class=\"double\">1</td></tr>\n",
       "<tr><td class=\"double\">7</td><td class=\"double\">8</td><td class=\"double\">1606</td><td class=\"double\">0.0280534351</td><td class=\"double\">0.1633814186</td><td class=\"double\">0.0239901495</td><td class=\"double\">0.1548875382</td><td class=\"double\">1</td></tr>\n",
       "<tr><td class=\"double\">8</td><td class=\"double\">9</td><td class=\"double\">1791</td><td class=\"double\">0.0280213496</td><td class=\"double\">0.1563014701</td><td class=\"double\">0.0234203484</td><td class=\"double\">0.1530370817</td><td class=\"double\">1</td></tr>\n",
       "<tr><td class=\"double\">9</td><td class=\"double\">10</td><td class=\"double\">1969</td><td class=\"double\">0.0272484756</td><td class=\"double\">0.1435421389</td><td class=\"double\">0.0229558132</td><td class=\"double\">0.1515117593</td><td class=\"double\">1</td></tr>\n",
       "<tr><td class=\"double\">10</td><td class=\"double\">11</td><td class=\"double\">2190</td><td class=\"double\">0.0270501953</td><td class=\"double\">0.1415149798</td><td class=\"double\">0.022854199</td><td class=\"double\">0.1511760531</td><td class=\"double\">1</td></tr>\n",
       "<tr><td class=\"double\">11</td><td class=\"double\">12</td><td class=\"double\">2411</td><td class=\"double\">0.0271454424</td><td class=\"double\">0.1397941394</td><td class=\"double\">0.0227279254</td><td class=\"double\">0.1507578369</td><td class=\"double\">1</td></tr>\n",
       "<tr><td class=\"double\">12</td><td class=\"double\">13</td><td class=\"double\">2618</td><td class=\"double\">0.0274311839</td><td class=\"double\">0.1399898008</td><td class=\"double\">0.02270253</td><td class=\"double\">0.1506735877</td><td class=\"double\">1</td></tr>\n",
       "<tr><td class=\"double\">13</td><td class=\"double\">14</td><td class=\"double\">2798</td><td class=\"double\">0.0275238095</td><td class=\"double\">0.1362594681</td><td class=\"double\">0.0226049399</td><td class=\"double\">0.1503493927</td><td class=\"double\">1</td></tr>\n",
       "<tr><td class=\"double\">14</td><td class=\"double\">15</td><td class=\"double\">2970</td><td class=\"double\">0.0275238095</td><td class=\"double\">0.1340496516</td><td class=\"double\">0.0224048643</td><td class=\"double\">0.1496825452</td><td class=\"double\">1</td></tr>\n",
       "<tr><td class=\"double\">15</td><td class=\"double\">16</td><td class=\"double\">3155</td><td class=\"double\">0.0275238095</td><td class=\"double\">0.1319043876</td><td class=\"double\">0.0222322355</td><td class=\"double\">0.1491047804</td><td class=\"double\">1</td></tr>\n",
       "<tr><td class=\"double\">16</td><td class=\"double\">17</td><td class=\"double\">3349</td><td class=\"double\">0.0274285714</td><td class=\"double\">0.1313546677</td><td class=\"double\">0.0220086029</td><td class=\"double\">0.1483529672</td><td class=\"double\">1</td></tr>\n",
       "<tr><td class=\"double\">17</td><td class=\"double\">18</td><td class=\"double\">3575</td><td class=\"double\">0.0267619048</td><td class=\"double\">0.1284483194</td><td class=\"double\">0.0220420536</td><td class=\"double\">0.1484656647</td><td class=\"double\">1</td></tr>\n",
       "<tr><td class=\"double\">18</td><td class=\"double\">19</td><td class=\"double\">3759</td><td class=\"double\">0.0267619048</td><td class=\"double\">0.1278577229</td><td class=\"double\">0.0218697985</td><td class=\"double\">0.1478844094</td><td class=\"double\">1</td></tr>\n",
       "<tr><td class=\"double\">19</td><td class=\"double\">20</td><td class=\"double\">3944</td><td class=\"double\">0.0268571429</td><td class=\"double\">0.1242585862</td><td class=\"double\">0.0218218584</td><td class=\"double\">0.1477222338</td><td class=\"double\">1</td></tr>\n",
       "</tbody>\n",
       "</table><table class=\"sas-dataframe\">\n",
       "<colgroup><col class=\"char\" /><col class=\"double\" /><col class=\"double\" /></colgroup>\n",
       "<thead>\n",
       "<tr><th colspan=\"3\">Forest for HR_PART</th></tr>\n",
       "<th class=\"char\">Analysis Variable</th>\n",
       "<th class=\"double\">Importance</th>\n",
       "<th class=\"double\">Std</th>\n",
       "</thead>\n",
       "<tbody>\n",
       "<tr><td class=\"char\">satisfaction_level</td><td class=\"double\">650.57951067</td><td class=\"double\">92.972090885</td></tr>\n",
       "<tr><td class=\"char\">time_spend_company</td><td class=\"double\">502.58777127</td><td class=\"double\">65.705236602</td></tr>\n",
       "<tr><td class=\"char\">number_project</td><td class=\"double\">405.06619166</td><td class=\"double\">75.61738136</td></tr>\n",
       "<tr><td class=\"char\">average_montly_hours</td><td class=\"double\">351.31958557</td><td class=\"double\">34.945440286</td></tr>\n",
       "<tr><td class=\"char\">last_evaluation</td><td class=\"double\">188.45323427</td><td class=\"double\">24.345922805</td></tr>\n",
       "<tr><td class=\"char\">sales</td><td class=\"double\">40.735173201</td><td class=\"double\">1.6328804848</td></tr>\n",
       "<tr><td class=\"char\">salary</td><td class=\"double\">19.473799635</td><td class=\"double\">3.4830435531</td></tr>\n",
       "<tr><td class=\"char\">Work_accident</td><td class=\"double\">19.147053149</td><td class=\"double\">13.26268857</td></tr>\n",
       "<tr><td class=\"char\">promotion_last_5years</td><td class=\"double\">1.1325444539</td><td class=\"double\">2.3309553661</td></tr>\n",
       "</tbody>\n",
       "</table><table class=\"sas-dataframe\">\n",
       "<colgroup><col class=\"varchar\" /><col class=\"varchar\" /><col class=\"int64\" /><col class=\"int64\" /><col class=\"object\" /></colgroup>\n",
       "<thead>\n",
       "<tr><th colspan=\"5\">Output CAS Tables</th></tr>\n",
       "<th class=\"varchar\">CAS Library</th>\n",
       "<th class=\"varchar\">Name</th>\n",
       "<th class=\"int64\">Number of Rows</th>\n",
       "<th class=\"int64\">Number of Columns</th>\n",
       "<th class=\"object\">Table</th>\n",
       "</thead>\n",
       "<tbody>\n",
       "<tr><td class=\"varchar\">datalib</td><td class=\"varchar\">forest_model</td><td class=\"int64\">7868</td><td class=\"int64\">48</td><td class=\"object\">CASTable('forest_model', caslib='datalib')</td></tr>\n",
       "</tbody>\n",
       "</table></div>"
      ]
     },
     "metadata": {},
     "output_type": "display_data"
    },
    {
     "name": "stdout",
     "output_type": "stream",
     "text": [
      "NOTE: Character values have been converted to numeric values at the places given by: (Line):(Column).\n",
      "      0:35    0:112\n",
      "NOTE: Duplicate messages output by DATA step:\n",
      "NOTE: Character values have been converted to numeric values at the places given by: (Line):(Column).  (occurred 8 times)\n",
      "      0:35    0:112  (occurred 8 times)\n"
     ]
    },
    {
     "data": {
      "text/html": [
       "<div class=\"cas-results-key\"><b>&#167; InputCasTables</b></div>\n",
       "<div class=\"cas-results-body\">\n",
       "<div>\n",
       "<table border=\"1\" class=\"dataframe\">\n",
       "  <thead>\n",
       "    <tr style=\"text-align: right;\">\n",
       "      <th title=\"\"></th>\n",
       "      <th title=\"CAS Library\">casLib</th>\n",
       "      <th title=\"Name\">Name</th>\n",
       "      <th title=\"Number of Rows\">Rows</th>\n",
       "      <th title=\"Number of Columns\">Columns</th>\n",
       "      <th title=\"Table\">casTable</th>\n",
       "    </tr>\n",
       "  </thead>\n",
       "  <tbody>\n",
       "    <tr>\n",
       "      <th>0</th>\n",
       "      <td>datalib</td>\n",
       "      <td>_scored_rf</td>\n",
       "      <td>14999</td>\n",
       "      <td>7</td>\n",
       "      <td>CASTable('_scored_rf', caslib='datalib')</td>\n",
       "    </tr>\n",
       "  </tbody>\n",
       "</table>\n",
       "</div>\n",
       "</div>\n",
       "<div class=\"cas-results-key\"><hr/><b>&#167; OutputCasTables</b></div>\n",
       "<div class=\"cas-results-body\">\n",
       "<div>\n",
       "<table border=\"1\" class=\"dataframe\">\n",
       "  <thead>\n",
       "    <tr style=\"text-align: right;\">\n",
       "      <th title=\"\"></th>\n",
       "      <th title=\"CAS Library\">casLib</th>\n",
       "      <th title=\"Name\">Name</th>\n",
       "      <th title=\"Number of Rows\">Rows</th>\n",
       "      <th title=\"Number of Columns\">Columns</th>\n",
       "      <th title=\"Table\">casTable</th>\n",
       "    </tr>\n",
       "  </thead>\n",
       "  <tbody>\n",
       "    <tr>\n",
       "      <th>0</th>\n",
       "      <td>datalib</td>\n",
       "      <td>_scored_rf</td>\n",
       "      <td>14999</td>\n",
       "      <td>9</td>\n",
       "      <td>CASTable('_scored_rf', caslib='datalib')</td>\n",
       "    </tr>\n",
       "  </tbody>\n",
       "</table>\n",
       "</div>\n",
       "</div>\n",
       "<div class=\"cas-output-area\"></div>\n",
       "<p class=\"cas-results-performance\"><small><span class=\"cas-elapsed\">elapsed 0.0157s</span> &#183; <span class=\"cas-user\">user 0.024s</span> &#183; <span class=\"cas-sys\">sys 0.016s</span> &#183; <span class=\"cas-memory\">mem 15.7MB</span></small></p>"
      ],
      "text/plain": [
       "[InputCasTables]\n",
       "\n",
       "     casLib        Name   Rows  Columns  \\\n",
       " 0  datalib  _scored_rf  14999        7   \n",
       " \n",
       "                                    casTable  \n",
       " 0  CASTable('_scored_rf', caslib='datalib')  \n",
       "\n",
       "[OutputCasTables]\n",
       "\n",
       "     casLib        Name   Rows  Columns  \\\n",
       " 0  datalib  _scored_rf  14999        9   \n",
       " \n",
       "                                    casTable  \n",
       " 0  CASTable('_scored_rf', caslib='datalib')  \n",
       "\n",
       "+ Elapsed: 0.0157s, user: 0.024s, sys: 0.016s, mem: 15.7mb"
      ]
     },
     "execution_count": 51,
     "metadata": {},
     "output_type": "execute_result"
    }
   ],
   "source": [
    "rf = sess.decisionTree.forestTrain(\n",
    "  table={\n",
    "    \"name\":\"hr_part\",\n",
    "    \"where\":\"strip(put(_partind_, best.))='1'\"\n",
    "  },\n",
    "  inputs=all_inputs,\n",
    "  nominals=class_vars,\n",
    "  target=\"left\",\n",
    "  nTree=20,\n",
    "  nBins=20,\n",
    "  leafSize=5,\n",
    "  maxLevel=21,\n",
    "  crit=\"GAIN\",\n",
    "  varImp=True,\n",
    "  missing=\"USEINSEARCH\",\n",
    "  vote=\"PROB\",\n",
    "  OOB=True,\n",
    "  casOut={\"name\":\"forest_model\", \"replace\":True}\n",
    ")\n",
    "\n",
    "# Output model statistics\n",
    "render_html(rf)\n",
    "\n",
    "# Score \n",
    "sess.decisionTree.forestScore(\n",
    "  table={\"name\":\"hr_part\"},\n",
    "  modelTable={\"name\":\"forest_model\"},\n",
    "  casOut={\"name\":\"_scored_rf\", \"replace\":True},\n",
    "  copyVars={\"left\", \"_partind_\"},\n",
    "  vote=\"PROB\"\n",
    ")\n",
    "\n",
    "# Create p_b_tgt0 and p_b_tgt1 as _rf_predp_ is the probability of event in _rf_predname_\n",
    "sess.dataStep.runCode(\n",
    "  code=\"\"\"data _scored_rf; set _scored_rf; if _rf_predname_=1 then do; p_left1=_rf_predp_; \n",
    "    p_left0=1-p_left1; end; if _rf_predname_=0 then do; p_left0=_rf_predp_; p_left1=1-p_left0; end; run;\"\"\"\n",
    ")"
   ]
  },
  {
   "cell_type": "markdown",
   "metadata": {},
   "source": [
    "## Model Comparison"
   ]
  },
  {
   "cell_type": "markdown",
   "metadata": {},
   "source": [
    "## Score the Models on Validation Data - CAS/Python"
   ]
  },
  {
   "cell_type": "code",
   "execution_count": 52,
   "metadata": {
    "collapsed": true
   },
   "outputs": [],
   "source": [
    "# Model assessment function\n",
    "def assess_model(prefix):\n",
    "    return sess.percentile.assess(\n",
    "      table={\n",
    "        \"name\":\"_scored_\" + prefix, \n",
    "        \"where\": \"strip(put(_partind_, best.))='0'\"\n",
    "      },\n",
    "      inputs=[{\"name\":\"p_left1\"}],      \n",
    "      response=\"left\",\n",
    "      event=\"1\",\n",
    "      pVar={\"p_left0\"},\n",
    "      pEvent={\"0\"}      \n",
    "    )\n",
    "\n",
    "def assess_logistic_model(prefix):\n",
    "    return sess.percentile.assess(\n",
    "        table={\"name\":\"_scored_\" + prefix, \"where\": \"strip(put(_partind_, best.))='0'\"},\n",
    "        inputs=[{\"name\":\"_pred_\"}],\n",
    "        response=\"left\",\n",
    "        event=\"1\",\n",
    "        pVar={\"_pred0_\"},\n",
    "        pEvent={\"0\"}\n",
    "    )\n",
    "\n",
    "\n",
    "#Logistic Regression Assess data sets\n",
    "logisticAssess=assess_logistic_model(prefix=\"logistic\") \n",
    "logistic_fitstat =logisticAssess.FitStat\n",
    "logistic_rocinfo =logisticAssess.ROCInfo\n",
    "logistic_liftinfo=logisticAssess.LIFTInfo\n",
    "\n",
    "#Gradient Boosting Assess data sets\n",
    "gbAssess=assess_model(prefix=\"gb\")    \n",
    "gb_fitstat =gbAssess.FitStat\n",
    "gb_rocinfo =gbAssess.ROCInfo\n",
    "gb_liftinfo=gbAssess.LIFTInfo\n",
    "\n",
    "#Random Forest Assess data sets\n",
    "rfAssess=assess_model(prefix=\"rf\")    \n",
    "rf_fitstat =rfAssess.FitStat\n",
    "rf_rocinfo =rfAssess.ROCInfo\n",
    "rf_liftinfo=rfAssess.LIFTInfo"
   ]
  },
  {
   "cell_type": "code",
   "execution_count": 53,
   "metadata": {
    "collapsed": true
   },
   "outputs": [],
   "source": [
    "# Add new variable to indicate type of model\n",
    "logistic_liftinfo[\"Model\"]=\"Logistic Regression\"\n",
    "logistic_rocinfo[\"Model\"]=\"Logistic Regression\"\n",
    "gb_liftinfo[\"Model\"]=\"Gradient Boosting\"\n",
    "gb_rocinfo[\"Model\"]=\"Gradient Boosting\"\n",
    "rf_liftinfo[\"Model\"]=\"Random Forest\"\n",
    "rf_rocinfo[\"Model\"]=\"Random Forest\"\n",
    "\n",
    "# Append data\n",
    "all_liftinfo=logistic_liftinfo.append(gb_liftinfo, ignore_index=True) \\\n",
    "    .append(rf_liftinfo, ignore_index=True)\n",
    "all_rocinfo=logistic_rocinfo.append(gb_rocinfo, ignore_index=True) \\\n",
    "    .append(rf_rocinfo, ignore_index=True)"
   ]
  },
  {
   "cell_type": "markdown",
   "metadata": {},
   "source": [
    "## Combined Confusion Matrix"
   ]
  },
  {
   "cell_type": "code",
   "execution_count": 54,
   "metadata": {
    "collapsed": false
   },
   "outputs": [
    {
     "name": "stdout",
     "output_type": "stream",
     "text": [
      "\n",
      "        Confusion Matrix Information       \n"
     ]
    },
    {
     "data": {
      "text/html": [
       "<div>\n",
       "<table border=\"1\" class=\"dataframe\">\n",
       "  <thead>\n",
       "    <tr style=\"text-align: right;\">\n",
       "      <th title=\"\"></th>\n",
       "      <th title=\"Model\">Model</th>\n",
       "      <th title=\"TP\">TP</th>\n",
       "      <th title=\"FP\">FP</th>\n",
       "      <th title=\"FN\">FN</th>\n",
       "      <th title=\"TN\">TN</th>\n",
       "    </tr>\n",
       "  </thead>\n",
       "  <tbody>\n",
       "    <tr>\n",
       "      <th>0</th>\n",
       "      <td>Logistic Regression</td>\n",
       "      <td>399.0</td>\n",
       "      <td>271.0</td>\n",
       "      <td>672.0</td>\n",
       "      <td>3157.0</td>\n",
       "    </tr>\n",
       "    <tr>\n",
       "      <th>1</th>\n",
       "      <td>Gradient Boosting</td>\n",
       "      <td>975.0</td>\n",
       "      <td>23.0</td>\n",
       "      <td>96.0</td>\n",
       "      <td>3405.0</td>\n",
       "    </tr>\n",
       "    <tr>\n",
       "      <th>2</th>\n",
       "      <td>Random Forest</td>\n",
       "      <td>983.0</td>\n",
       "      <td>17.0</td>\n",
       "      <td>88.0</td>\n",
       "      <td>3411.0</td>\n",
       "    </tr>\n",
       "  </tbody>\n",
       "</table>\n",
       "</div>"
      ],
      "text/plain": [
       "                 Model     TP     FP     FN      TN\n",
       "0  Logistic Regression  399.0  271.0  672.0  3157.0\n",
       "1    Gradient Boosting  975.0   23.0   96.0  3405.0\n",
       "2        Random Forest  983.0   17.0   88.0  3411.0"
      ]
     },
     "execution_count": 54,
     "metadata": {},
     "output_type": "execute_result"
    }
   ],
   "source": [
    "# Display stacked confusion matrix using Python with a cut-off of 0.5\n",
    "print('\\n', 'Confusion Matrix Information'.center(42, ' '))\n",
    "all_rocinfo[round(all_rocinfo['CutOff'], 2) == 0.5][['Model', 'TP', 'FP', 'FN', 'TN']].reset_index(drop = True)"
   ]
  },
  {
   "cell_type": "markdown",
   "metadata": {},
   "source": [
    "## Compare Misclassification Rates - Python"
   ]
  },
  {
   "cell_type": "code",
   "execution_count": 55,
   "metadata": {
    "collapsed": false
   },
   "outputs": [
    {
     "name": "stdout",
     "output_type": "stream",
     "text": [
      "\n",
      "   Misclassification Rate Comparison  \n"
     ]
    },
    {
     "data": {
      "text/html": [
       "<div>\n",
       "<table border=\"1\" class=\"dataframe\">\n",
       "  <thead>\n",
       "    <tr style=\"text-align: right;\">\n",
       "      <th title=\"\"></th>\n",
       "      <th title=\"Model\">Model</th>\n",
       "      <th title=\"Misclassification\">Misclassification</th>\n",
       "    </tr>\n",
       "  </thead>\n",
       "  <tbody>\n",
       "    <tr>\n",
       "      <th>2</th>\n",
       "      <td>Random Forest</td>\n",
       "      <td>0.023339</td>\n",
       "    </tr>\n",
       "    <tr>\n",
       "      <th>1</th>\n",
       "      <td>Gradient Boosting</td>\n",
       "      <td>0.026450</td>\n",
       "    </tr>\n",
       "    <tr>\n",
       "      <th>0</th>\n",
       "      <td>Logistic Regression</td>\n",
       "      <td>0.209602</td>\n",
       "    </tr>\n",
       "  </tbody>\n",
       "</table>\n",
       "</div>"
      ],
      "text/plain": [
       "                 Model  Misclassification\n",
       "2        Random Forest           0.023339\n",
       "1    Gradient Boosting           0.026450\n",
       "0  Logistic Regression           0.209602"
      ]
     },
     "execution_count": 55,
     "metadata": {},
     "output_type": "execute_result"
    }
   ],
   "source": [
    "# Add misclassification rate calculation\n",
    "all_rocinfo['Misclassification'] = 1 - all_rocinfo['ACC']\n",
    "\n",
    "print('\\n', 'Misclassification Rate Comparison'.center(37, ' '))\n",
    "miss = all_rocinfo[round(all_rocinfo['CutOff'], 2)==0.5][['Model', 'Misclassification']].reset_index(drop = True)\n",
    "miss.sort_values('Misclassification')"
   ]
  },
  {
   "cell_type": "markdown",
   "metadata": {},
   "source": [
    "## Area Under the Curve (AUC)"
   ]
  },
  {
   "cell_type": "code",
   "execution_count": 56,
   "metadata": {
    "collapsed": false
   },
   "outputs": [
    {
     "name": "stdout",
     "output_type": "stream",
     "text": [
      "--------------------------AUC (using validation data)---------------------------\n"
     ]
    },
    {
     "data": {
      "text/html": [
       "<div>\n",
       "<table border=\"1\" class=\"dataframe\">\n",
       "  <thead>\n",
       "    <tr style=\"text-align: right;\">\n",
       "      <th title=\"\"></th>\n",
       "      <th title=\"Model\">Model</th>\n",
       "      <th title=\"C\">C</th>\n",
       "    </tr>\n",
       "  </thead>\n",
       "  <tbody>\n",
       "    <tr>\n",
       "      <th>200</th>\n",
       "      <td>Random Forest</td>\n",
       "      <td>0.991787</td>\n",
       "    </tr>\n",
       "    <tr>\n",
       "      <th>100</th>\n",
       "      <td>Gradient Boosting</td>\n",
       "      <td>0.986091</td>\n",
       "    </tr>\n",
       "    <tr>\n",
       "      <th>0</th>\n",
       "      <td>Logistic Regression</td>\n",
       "      <td>0.821497</td>\n",
       "    </tr>\n",
       "  </tbody>\n",
       "</table>\n",
       "</div>"
      ],
      "text/plain": [
       "                   Model         C\n",
       "200        Random Forest  0.991787\n",
       "100    Gradient Boosting  0.986091\n",
       "0    Logistic Regression  0.821497"
      ]
     },
     "execution_count": 56,
     "metadata": {},
     "output_type": "execute_result"
    }
   ],
   "source": [
    "print(\"AUC (using validation data)\".center(80, '-'))\n",
    "all_rocinfo[[\"Model\", \"C\"]].drop_duplicates(keep=\"first\").sort_values(by=\"C\", ascending=False)"
   ]
  },
  {
   "cell_type": "markdown",
   "metadata": {},
   "source": [
    "## Create ROC Curve - Python"
   ]
  },
  {
   "cell_type": "code",
   "execution_count": 59,
   "metadata": {
    "collapsed": false
   },
   "outputs": [
    {
     "data": {
      "image/png": "[encoded data removed]",
      "text/plain": [
       "<matplotlib.figure.Figure at 0x7fce81acfa20>"
      ]
     },
     "metadata": {},
     "output_type": "display_data"
    },
    {
     "data": {
      "image/png": "[encoded data removed]",
      "text/plain": [
       "<matplotlib.figure.Figure at 0x7fce820130b8>"
      ]
     },
     "metadata": {},
     "output_type": "display_data"
    }
   ],
   "source": [
    "#/* Draw ROC charts */ \n",
    "plt.figure()\n",
    "for key, grp in all_rocinfo.groupby([\"Model\"]):\n",
    "    plt.plot(grp[\"FPR\"], grp[\"Sensitivity\"], label=key)\n",
    "plt.plot([0,1], [0,1], \"k--\")\n",
    "plt.xlabel(\"False Positive Rate\")\n",
    "plt.ylabel(\"True Positive Rate\")\n",
    "plt.grid(True)\n",
    "plt.legend(loc=\"best\")\n",
    "plt.title(\"ROC Curve (using validation data)\")\n",
    "plt.show()\n",
    "\n",
    "#/* Draw lift charts */\n",
    "plt.figure()\n",
    "for key, grp in all_liftinfo.groupby([\"Model\"]):\n",
    "    plt.plot(grp[\"Depth\"], grp[\"Lift\"], label=key)\n",
    "plt.xlabel(\"Depth\")\n",
    "plt.ylabel(\"Lift\")\n",
    "plt.grid(True)\n",
    "plt.legend(loc=\"best\")\n",
    "plt.title(\"Lift Chart (using validation data)\")\n",
    "plt.show()"
   ]
  },
  {
   "cell_type": "markdown",
   "metadata": {},
   "source": [
    " ### End CAS session\n"
   ]
  },
  {
   "cell_type": "code",
   "execution_count": 58,
   "metadata": {
    "collapsed": true
   },
   "outputs": [],
   "source": [
    "#sess.close()"
   ]
  },
  {
   "cell_type": "code",
   "execution_count": null,
   "metadata": {
    "collapsed": true
   },
   "outputs": [],
   "source": []
  },
  {
   "cell_type": "code",
   "execution_count": null,
   "metadata": {
    "collapsed": true
   },
   "outputs": [],
   "source": []
  }
 ],
 "metadata": {
  "kernelspec": {
   "display_name": "Python 3",
   "language": "python",
   "name": "python3"
  },
  "language_info": {
   "codemirror_mode": {
    "name": "ipython",
    "version": 3
   },
   "file_extension": ".py",
   "mimetype": "text/x-python",
   "name": "python",
   "nbconvert_exporter": "python",
   "pygments_lexer": "ipython3",
   "version": "3.6.0"
  }
 },
 "nbformat": 4,
 "nbformat_minor": 2
}
